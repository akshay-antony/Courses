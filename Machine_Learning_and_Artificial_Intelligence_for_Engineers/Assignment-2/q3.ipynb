{
 "cells": [
  {
   "cell_type": "markdown",
   "metadata": {},
   "source": [
    "# Question 3: Logistic Regression"
   ]
  },
  {
   "cell_type": "code",
   "execution_count": 1,
   "metadata": {},
   "outputs": [],
   "source": [
    "#Import all the required libraries\n",
    "import numpy as np\n",
    "import matplotlib.pyplot as plt\n",
    "import pandas as pd"
   ]
  },
  {
   "cell_type": "markdown",
   "metadata": {},
   "source": [
    "## Load the data"
   ]
  },
  {
   "cell_type": "code",
   "execution_count": 2,
   "metadata": {},
   "outputs": [],
   "source": [
    "# load the data\n",
    "data_input_0 = pd.read_csv(\"/home/akshay/Downloads/MAIL/Assignment 2/class0-input.csv\")\n",
    "data_input_1 = pd.read_csv(\"/home/akshay/Downloads/MAIL/Assignment 2/class1-input.csv\")\n",
    "data_labels = pd.read_csv(\"/home/akshay/Downloads/MAIL/Assignment 2/labels.csv\")\n",
    "\n",
    "# Perform important operations on the data\n",
    "X = pd.concat([data_input_0,data_input_1],axis=0)\n",
    "X = X.to_numpy()\n",
    "X = np.float64(X)\n",
    "Y = data_labels.to_numpy()\n",
    "Y = np.float64(Y)"
   ]
  },
  {
   "cell_type": "markdown",
   "metadata": {},
   "source": [
    "## Check the shape"
   ]
  },
  {
   "cell_type": "code",
   "execution_count": 3,
   "metadata": {},
   "outputs": [
    {
     "name": "stdout",
     "output_type": "stream",
     "text": [
      "(10000, 2)\n",
      "(10000, 1)\n"
     ]
    }
   ],
   "source": [
    "# Shape of X\n",
    "print(X.shape)\n",
    "# Shape of Y\n",
    "print(Y.shape)"
   ]
  },
  {
   "cell_type": "markdown",
   "metadata": {},
   "source": [
    "## Visualize the data"
   ]
  },
  {
   "cell_type": "code",
   "execution_count": 4,
   "metadata": {},
   "outputs": [
    {
     "data": {
      "text/plain": [
       "<matplotlib.legend.Legend at 0x7f442b303760>"
      ]
     },
     "execution_count": 4,
     "metadata": {},
     "output_type": "execute_result"
    },
    {
     "data": {
      "image/png": "[encoded data removed]",
      "text/plain": [
       "<Figure size 432x288 with 1 Axes>"
      ]
     },
     "metadata": {
      "needs_background": "light"
     },
     "output_type": "display_data"
    }
   ],
   "source": [
    "# Use different colors for each class\n",
    "# Use plt.scatter\n",
    "fig, ax = plt.subplots(1)\n",
    "ax.scatter(X[:5000,0],X[:5000,1],label=\"class-0\")\n",
    "ax.scatter(X[5000:10000,0],X[5000:10000,1],label=\"class-1\")\n",
    "# Dont forget to add axes titles, graph title, legend\n",
    "ax.set_xlabel(\"x coordinate of the data\")\n",
    "ax.set_ylabel(\"y coordinate of the data\")\n",
    "ax.set_title(\"plotting all the input data, orange is class 1 data and blue is class 2 data\")\n",
    "ax.legend()"
   ]
  },
  {
   "cell_type": "markdown",
   "metadata": {},
   "source": [
    "## Define the required functions"
   ]
  },
  {
   "cell_type": "code",
   "execution_count": 5,
   "metadata": {},
   "outputs": [],
   "source": [
    "# Pass in the required arguments\n",
    "# Implement the sigmoid function\n",
    "def sigmoid(x):\n",
    "    sig_x = 1/(1 + np.exp(-x))\n",
    "    return sig_x"
   ]
  },
  {
   "cell_type": "code",
   "execution_count": 6,
   "metadata": {},
   "outputs": [],
   "source": [
    "# Pass in the required arguments\n",
    "# The function should return the gradients\n",
    "def calculate_gradients(Y,X,sig_x):\n",
    "    grad_x1 = (Y - sig_x).squeeze()*X[:,0]\n",
    "    grad_x2 = (Y - sig_x).squeeze()*X[:,1]\n",
    "    grad_x0 = (Y - sig_x)\n",
    "    current_grads = np.asarray([[np.sum(grad_x0)/Y.shape[0]],[np.sum(grad_x1)/Y.shape[0]]\n",
    "                                ,[np.sum(grad_x2)/Y.shape[0]]])\n",
    "    #print(current_grads)\n",
    "    return current_grads\n"
   ]
  },
  {
   "cell_type": "code",
   "execution_count": 7,
   "metadata": {},
   "outputs": [],
   "source": [
    "# Update the weights using gradients calculated using above function and learning rate\n",
    "# The function should return the updated weights to be used in the next step\n",
    "def update_weights(prev_weights, current_grads, learning_rate):\n",
    "    prev_weights += learning_rate*current_grads\n",
    "    return prev_weights"
   ]
  },
  {
   "cell_type": "code",
   "execution_count": 8,
   "metadata": {},
   "outputs": [],
   "source": [
    "# Use the implemented functions in the main function\n",
    "# 'main' fucntion should return weights after all the iterations\n",
    "# Dont forget to divide by the number of datapoints wherever necessary!\n",
    "# Initialize the intial weigths randomly\n",
    "def main(X, Y, weights, learning_rate = 0.0005, num_steps = 50000):\n",
    "    updated_weights = weights\n",
    "    for j in range(num_steps):\n",
    "        sig_x = sigmoid(X@updated_weights[1:3] + updated_weights[0])\n",
    "        #predicted = np.where(sig_x<=0.5,0,1)\n",
    "        current_grads = calculate_gradients(Y,X,sig_x)\n",
    "        updated_weights = update_weights(updated_weights,current_grads,learning_rate)\n",
    "        \n",
    "    return updated_weights"
   ]
  },
  {
   "cell_type": "code",
   "execution_count": 9,
   "metadata": {},
   "outputs": [],
   "source": [
    "# Pass in the required arguments (final weights and input)\n",
    "# The function should return the predictions obtained using sigmoid function.\n",
    "def predict(final_weights,X):\n",
    "    sig_x = sigmoid(X@final_weights[1:3] + final_weights[0])\n",
    "    return sig_x"
   ]
  },
  {
   "cell_type": "markdown",
   "metadata": {},
   "source": [
    "## Visualize the misclassification"
   ]
  },
  {
   "cell_type": "code",
   "execution_count": 10,
   "metadata": {},
   "outputs": [
    {
     "name": "stdout",
     "output_type": "stream",
     "text": [
      "Accuracy:  0.984 Intercept:  [-2.20981838] Coefficients:  [-0.59123076] [1.55533894]\n"
     ]
    }
   ],
   "source": [
    "# Use the final weights to perform prediction using predict funtion\n",
    "# Convert the predictions to '0' or '1'\n",
    "# Calculate the accuracy using predictions and labels\n",
    "#initial_weights = np.random.rand(3,1)\n",
    "initial_weights = np.asarray([[0.],[0.],[0.]])\n",
    "final_weights = main(X,Y,weights=initial_weights)\n",
    "predicted = predict(final_weights,X)\n",
    "predicted = np.where(predicted<=0.5,0,1)\n",
    "accuracy = np.sum(predicted == Y)/Y.shape[0]\n",
    "print(\"Accuracy: \",accuracy,\"Intercept: \",final_weights[0],\"Coefficients: \",final_weights[1],final_weights[2])"
   ]
  },
  {
   "cell_type": "code",
   "execution_count": 11,
   "metadata": {},
   "outputs": [
    {
     "data": {
      "text/plain": [
       "<matplotlib.legend.Legend at 0x7f442914d2b0>"
      ]
     },
     "execution_count": 11,
     "metadata": {},
     "output_type": "execute_result"
    },
    {
     "data": {
      "image/png": "[encoded data removed]",
      "text/plain": [
       "<Figure size 432x288 with 1 Axes>"
      ]
     },
     "metadata": {
      "needs_background": "light"
     },
     "output_type": "display_data"
    }
   ],
   "source": [
    "# Use different colors for class 0, class 1 and misclassified datapoints\n",
    "# Use plt.scatter\n",
    "# Dont forget to add axes titles, graph title, legend\n",
    "class0_x,class0_y,class1_x, class1_y, mis_class_x, mis_class_y = [], [], [], [], [], []\n",
    "for i in range(predicted.shape[0]):\n",
    "    if(predicted[i] == Y[i] == 0):\n",
    "        class0_x.append(X[i,0])\n",
    "        class0_y.append(X[i,1])\n",
    "        \n",
    "    elif(predicted[i] == Y[i] == 1):\n",
    "        class1_x.append(X[i,0])\n",
    "        class1_y.append(X[i,1])\n",
    "    \n",
    "    else:\n",
    "        mis_class_x.append(X[i,0])\n",
    "        mis_class_y.append(X[i,1])\n",
    "#print(len(mis_class_x))\n",
    "fig, ax = plt.subplots(1)\n",
    "ax.scatter(class0_x,class0_y,label=\"class-0\")\n",
    "ax.scatter(class1_x,class1_y,label=\"class-1\")\n",
    "ax.scatter(mis_class_x,mis_class_y,label=\"Misplaced\")\n",
    "# Dont forget to add axes titles, graph title, legend\n",
    "ax.set_xlabel(\"x coordinate of the data\")\n",
    "ax.set_ylabel(\"y coordinate of the data\")\n",
    "ax.set_title(\"plotting all the input data, orange is class 1 data and blue is class 2 data\")\n",
    "ax.legend()"
   ]
  },
  {
   "cell_type": "markdown",
   "metadata": {},
   "source": [
    "## Compare the results with sklearn's Logistic Regression"
   ]
  },
  {
   "cell_type": "code",
   "execution_count": 12,
   "metadata": {},
   "outputs": [],
   "source": [
    "# import sklearn and necessary libraries\n",
    "# Print the accuracy obtained by sklearn and your model"
   ]
  },
  {
   "cell_type": "code",
   "execution_count": 13,
   "metadata": {},
   "outputs": [
    {
     "name": "stdout",
     "output_type": "stream",
     "text": [
      "[[-3.92166117  6.5756403 ]] [-11.2220325] 0.9948\n"
     ]
    }
   ],
   "source": [
    "import sklearn\n",
    "from sklearn.linear_model import LogisticRegression\n",
    "\n",
    "Y = Y.reshape(10000)\n",
    "\n",
    "log_reg_obj = LogisticRegression()\n",
    "log_reg_obj.fit(X,Y)\n",
    "print(log_reg_obj.coef_,log_reg_obj.intercept_,log_reg_obj.score(X, Y))"
   ]
  },
  {
   "cell_type": "markdown",
   "metadata": {},
   "source": [
    "## Accuracy given by my model: .984\n",
    "## SKLearn Accuracy: .9948\n",
    "### Both accuracies are equal. To increase the accuracy\n",
    "  1. We can pass in the data in batches\n",
    "  2. Optimizing the hyperparameters including lr"
   ]
  },
  {
   "cell_type": "code",
   "execution_count": 2,
   "metadata": {},
   "outputs": [
    {
     "data": {
      "text/plain": [
       "(array([0. , 0.5, 1. ]),\n",
       " array([0., 1.]),\n",
       " array([[0. , 0.5, 1. ],\n",
       "        [0. , 0.5, 1. ]]),\n",
       " array([[0., 0., 0.],\n",
       "        [1., 1., 1.]]))"
      ]
     },
     "execution_count": 2,
     "metadata": {},
     "output_type": "execute_result"
    }
   ],
   "source": [
    "import numpy as np\n",
    "nx, ny = (3, 2)\n",
    "x = np.linspace(0, 1, nx)\n",
    "y = dat\n",
    "xv, yv = np.meshgrid(x, y)\n",
    "x,y,xv, yv "
   ]
  },
  {
   "cell_type": "code",
   "execution_count": null,
   "metadata": {},
   "outputs": [],
   "source": []
  }
 ],
 "metadata": {
  "kernelspec": {
   "display_name": "Python 3",
   "language": "python",
   "name": "python3"
  },
  "language_info": {
   "codemirror_mode": {
    "name": "ipython",
    "version": 3
   },
   "file_extension": ".py",
   "mimetype": "text/x-python",
   "name": "python",
   "nbconvert_exporter": "python",
   "pygments_lexer": "ipython3",
   "version": "3.8.8"
  }
 },
 "nbformat": 4,
 "nbformat_minor": 4
}
