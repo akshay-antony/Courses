{
 "cells": [
  {
   "cell_type": "code",
   "execution_count": 6,
   "id": "f09cf91b",
   "metadata": {},
   "outputs": [],
   "source": [
    "import numpy as np\n",
    "#initializing elements of coefficient matrix to 0\n",
    "y_sum, x_sum, x_y_sum, x_x_sum, i = 0, 0, 0, 0, -1"
   ]
  },
  {
   "cell_type": "code",
   "execution_count": 7,
   "id": "ba2ccfe5",
   "metadata": {},
   "outputs": [],
   "source": [
    "#genrating matrix elements for solving b0 and b1\n",
    "my_data = np.genfromtxt('/home/akshay/Downloads/MAIL/Assigment_1/data.csv', delimiter=\",\")\n",
    "for row in my_data:\n",
    "    #skipping first row which are the column names\n",
    "    if(i == -1):\n",
    "        i = 0\n",
    "        continue\n",
    "    i += 1\n",
    "    y_sum += row[1]\n",
    "    x_sum += row[0]\n",
    "    x_y_sum += row[0] * row[1]\n",
    "    x_x_sum += row[0] ** 2"
   ]
  },
  {
   "cell_type": "code",
   "execution_count": 8,
   "id": "7dbb05a4",
   "metadata": {},
   "outputs": [
    {
     "name": "stdout",
     "output_type": "stream",
     "text": [
      "b0: 4.08 , b1: -0.44\n"
     ]
    }
   ],
   "source": [
    "#the coefficient matrices for solving b0 and b1\n",
    "A = np.asarray([[i,x_sum],[x_sum,x_x_sum]]) #2*2\n",
    "B = np.asarray([[y_sum],[x_y_sum]])\n",
    "X = np.linalg.solve(A, B)\n",
    "print(\"b0: {:.2f} , b1: {:.2f}\".format(float(X[0]),float(X[1])))\n"
   ]
  }
 ],
 "metadata": {
  "kernelspec": {
   "display_name": "Python 3 (ipykernel)",
   "language": "python",
   "name": "python3"
  },
  "language_info": {
   "codemirror_mode": {
    "name": "ipython",
    "version": 3
   },
   "file_extension": ".py",
   "mimetype": "text/x-python",
   "name": "python",
   "nbconvert_exporter": "python",
   "pygments_lexer": "ipython3",
   "version": "3.9.6"
  }
 },
 "nbformat": 4,
 "nbformat_minor": 5
}
