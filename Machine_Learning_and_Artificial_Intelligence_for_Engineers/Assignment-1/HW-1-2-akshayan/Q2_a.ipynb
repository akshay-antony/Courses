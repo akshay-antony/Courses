{
 "cells": [
  {
   "cell_type": "code",
   "execution_count": 1,
   "id": "74dfc598",
   "metadata": {},
   "outputs": [],
   "source": [
    "def includes(item, val, start_ind = None):\n",
    "    #for dictionary ignoring start_ind and searching\n",
    "    if(type(item) == dict):\n",
    "        for key in item:\n",
    "            if(item[key] == val):\n",
    "                return True\n",
    "        return False\n",
    "    \n",
    "    #making start_ind 0 if it is not passed a valur\n",
    "    if(start_ind == None):\n",
    "        start_ind = 0\n",
    "    n = len(item)\n",
    "    i = 0\n",
    "    \n",
    "    for i in range(n):\n",
    "        #skipping till start_ind\n",
    "        if(i<start_ind):\n",
    "            continue\n",
    "        elif(item[i] == val):\n",
    "            return True\n",
    "    return False"
   ]
  },
  {
   "cell_type": "code",
   "execution_count": 2,
   "id": "3990367d",
   "metadata": {},
   "outputs": [
    {
     "data": {
      "text/plain": [
       "True"
      ]
     },
     "execution_count": 2,
     "metadata": {},
     "output_type": "execute_result"
    }
   ],
   "source": [
    "includes([2, 3, 4], 2, 0) # True"
   ]
  },
  {
   "cell_type": "code",
   "execution_count": 3,
   "id": "11b8d4a8",
   "metadata": {},
   "outputs": [
    {
     "data": {
      "text/plain": [
       "True"
      ]
     },
     "execution_count": 3,
     "metadata": {},
     "output_type": "execute_result"
    }
   ],
   "source": [
    "includes([2, 3, 4], 4, 1) # True"
   ]
  },
  {
   "cell_type": "code",
   "execution_count": 4,
   "id": "ee9b5f1a",
   "metadata": {},
   "outputs": [
    {
     "data": {
      "text/plain": [
       "True"
      ]
     },
     "execution_count": 4,
     "metadata": {},
     "output_type": "execute_result"
    }
   ],
   "source": [
    "includes({'a':1,'b':2}, 1) # True"
   ]
  },
  {
   "cell_type": "code",
   "execution_count": 5,
   "id": "900cbf16",
   "metadata": {},
   "outputs": [
    {
     "data": {
      "text/plain": [
       "False"
      ]
     },
     "execution_count": 5,
     "metadata": {},
     "output_type": "execute_result"
    }
   ],
   "source": [
    "includes({'a':1,'b':2}, 'a') # False"
   ]
  },
  {
   "cell_type": "code",
   "execution_count": 6,
   "id": "6b99e9ad",
   "metadata": {},
   "outputs": [
    {
     "data": {
      "text/plain": [
       "True"
      ]
     },
     "execution_count": 6,
     "metadata": {},
     "output_type": "execute_result"
    }
   ],
   "source": [
    "includes('abcd', 'b')"
   ]
  }
 ],
 "metadata": {
  "kernelspec": {
   "display_name": "Python 3 (ipykernel)",
   "language": "python",
   "name": "python3"
  },
  "language_info": {
   "codemirror_mode": {
    "name": "ipython",
    "version": 3
   },
   "file_extension": ".py",
   "mimetype": "text/x-python",
   "name": "python",
   "nbconvert_exporter": "python",
   "pygments_lexer": "ipython3",
   "version": "3.9.6"
  }
 },
 "nbformat": 4,
 "nbformat_minor": 5
}
