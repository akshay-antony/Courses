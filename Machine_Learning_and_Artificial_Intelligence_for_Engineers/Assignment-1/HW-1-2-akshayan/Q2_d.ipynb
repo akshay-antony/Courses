{
 "cells": [
  {
   "cell_type": "code",
   "execution_count": 1,
   "id": "680bc8f7",
   "metadata": {},
   "outputs": [],
   "source": [
    "import numpy as np\n",
    "import matplotlib.pyplot as plt\n"
   ]
  },
  {
   "cell_type": "code",
   "execution_count": 2,
   "id": "c5c0db84",
   "metadata": {},
   "outputs": [],
   "source": [
    "file = np.load(\"/home/akshay/Downloads/MAIL/Assigment_1/kmeans.npz\")\n",
    "data = file['data']\n",
    "pred = file['pred']\n",
    "centers = file['centers']\n",
    "\n",
    "#xi,yi denotes the point in the ith cluster\n",
    "x1, y1, x2, y2, x3, y3, x4, y4 = [], [], [], [], [], [], [], []\n",
    "n = len(pred)\n",
    "i = 0\n",
    "\n",
    "#x0,y0 as centroids\n",
    "x0, y0 = [], []\n",
    "for row in centers:\n",
    "    x0.append(row[0])\n",
    "    y0.append(row[1])\n",
    "    \n",
    "#assigning each point to the clusters\n",
    "for i in range(n):\n",
    "    if (pred[i] == 0):\n",
    "        x1.append(data[i][0])\n",
    "        y1.append(data[i][1])\n",
    "    elif (pred[i] == 1):\n",
    "        x2.append(data[i][0])\n",
    "        y2.append(data[i][1])\n",
    "    elif (pred[i] == 2):\n",
    "        x3.append(data[i][0])\n",
    "        y3.append(data[i][1])\n",
    "    else:\n",
    "        x4.append(data[i][0])\n",
    "        y4.append(data[i][1])\n"
   ]
  },
  {
   "cell_type": "code",
   "execution_count": 3,
   "id": "4422a652",
   "metadata": {},
   "outputs": [
    {
     "data": {
      "image/png": "[encoded data removed]",
      "text/plain": [
       "<Figure size 432x288 with 1 Axes>"
      ]
     },
     "metadata": {
      "needs_background": "light"
     },
     "output_type": "display_data"
    }
   ],
   "source": [
    "#plotting all the points\n",
    "fig, ax = plt.subplots(1)\n",
    "ax.plot(x1,y1,\"om\")\n",
    "ax.plot(x2,y2,\"ob\")\n",
    "ax.plot(x3,y3,\"og\")\n",
    "ax.plot(x4,y4,\"oy\")\n",
    "ax.plot(x0,y0,\"or\")\n",
    "plt.show()"
   ]
  },
  {
   "cell_type": "code",
   "execution_count": null,
   "id": "1e47b234",
   "metadata": {},
   "outputs": [],
   "source": []
  }
 ],
 "metadata": {
  "kernelspec": {
   "display_name": "Python 3 (ipykernel)",
   "language": "python",
   "name": "python3"
  },
  "language_info": {
   "codemirror_mode": {
    "name": "ipython",
    "version": 3
   },
   "file_extension": ".py",
   "mimetype": "text/x-python",
   "name": "python",
   "nbconvert_exporter": "python",
   "pygments_lexer": "ipython3",
   "version": "3.9.6"
  }
 },
 "nbformat": 4,
 "nbformat_minor": 5
}
