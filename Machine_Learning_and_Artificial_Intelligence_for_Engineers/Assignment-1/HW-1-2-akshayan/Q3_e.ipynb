{
 "cells": [
  {
   "cell_type": "code",
   "execution_count": 1,
   "id": "98338c92",
   "metadata": {},
   "outputs": [],
   "source": [
    "import numpy as np\n",
    "import timeit"
   ]
  },
  {
   "cell_type": "code",
   "execution_count": 8,
   "id": "a1a2d1b5",
   "metadata": {},
   "outputs": [
    {
     "data": {
      "text/plain": [
       "(array([-646, -482,  700, ..., -404,  149, -456]),\n",
       " array([-446, -671, -499, ..., -363, -711, -501]))"
      ]
     },
     "execution_count": 8,
     "metadata": {},
     "output_type": "execute_result"
    }
   ],
   "source": [
    "#generating input and printing it\n",
    "np.random.seed(24787)\n",
    "X = np.random.randint(-1000, 1000, size=3000)\n",
    "Y = np.random.randint(-1000, 1000, size=3000)\n",
    "X,Y"
   ]
  },
  {
   "cell_type": "code",
   "execution_count": 9,
   "id": "4e2eb8de",
   "metadata": {},
   "outputs": [],
   "source": [
    "def NUMPY_outer(X,Y):\n",
    "    C = np.full((X.size,Y.size),0)\n",
    "    for i in range(X.size):\n",
    "        for j in range(Y.size):\n",
    "            C[i][j] = X[i] * Y[j]\n",
    "    return C"
   ]
  },
  {
   "cell_type": "code",
   "execution_count": 10,
   "id": "4ac763f0",
   "metadata": {},
   "outputs": [
    {
     "name": "stdout",
     "output_type": "stream",
     "text": [
      "Time:  3.2401320529997975\n",
      "[[ 288116  433466  322354 ...  234498  459306  323646]\n",
      " [ 214972  323422  240518 ...  174966  342702  241482]\n",
      " [-312200 -469700 -349300 ... -254100 -497700 -350700]\n",
      " ...\n",
      " [ 180184  271084  201596 ...  146652  287244  202404]\n",
      " [ -66454  -99979  -74351 ...  -54087 -105939  -74649]\n",
      " [ 203376  305976  227544 ...  165528  324216  228456]]\n"
     ]
    }
   ],
   "source": [
    "start = timeit.default_timer()\n",
    "Z = NUMPY_outer(X,Y)\n",
    "stop = timeit.default_timer()\n",
    "#pritning time and the outer product we obtained\n",
    "print('Time: ', stop - start) \n",
    "print(Z)"
   ]
  },
  {
   "cell_type": "code",
   "execution_count": 11,
   "id": "f20c6944",
   "metadata": {},
   "outputs": [
    {
     "name": "stdout",
     "output_type": "stream",
     "text": [
      "Time:  0.038213711000025796\n",
      "[[ 288116  433466  322354 ...  234498  459306  323646]\n",
      " [ 214972  323422  240518 ...  174966  342702  241482]\n",
      " [-312200 -469700 -349300 ... -254100 -497700 -350700]\n",
      " ...\n",
      " [ 180184  271084  201596 ...  146652  287244  202404]\n",
      " [ -66454  -99979  -74351 ...  -54087 -105939  -74649]\n",
      " [ 203376  305976  227544 ...  165528  324216  228456]]\n"
     ]
    }
   ],
   "source": [
    "start = timeit.default_timer()\n",
    "C = np.outer(X,Y)\n",
    "stop = timeit.default_timer()\n",
    "#printing time and outer product from numpy\n",
    "print('Time: ', stop - start) \n",
    "print(C)"
   ]
  },
  {
   "cell_type": "code",
   "execution_count": 7,
   "id": "4d2fb4f1",
   "metadata": {},
   "outputs": [
    {
     "name": "stdout",
     "output_type": "stream",
     "text": [
      "[[0 0 0 ... 0 0 0]\n",
      " [0 0 0 ... 0 0 0]\n",
      " [0 0 0 ... 0 0 0]\n",
      " ...\n",
      " [0 0 0 ... 0 0 0]\n",
      " [0 0 0 ... 0 0 0]\n",
      " [0 0 0 ... 0 0 0]]\n"
     ]
    }
   ],
   "source": [
    "#Testing Accuracy\n",
    "print(Z-C)"
   ]
  },
  {
   "cell_type": "markdown",
   "id": "4fd40b77",
   "metadata": {},
   "source": [
    "## Explanation for the time difference\n",
    "### The numpy library vectorizes the array and can perform operations on multiple array elements at once. But our for loop does the m*n operations separately. So numpy is way faster as shown in the cells above"
   ]
  },
  {
   "cell_type": "code",
   "execution_count": null,
   "id": "e8cd5661",
   "metadata": {},
   "outputs": [],
   "source": []
  }
 ],
 "metadata": {
  "kernelspec": {
   "display_name": "Python 3 (ipykernel)",
   "language": "python",
   "name": "python3"
  },
  "language_info": {
   "codemirror_mode": {
    "name": "ipython",
    "version": 3
   },
   "file_extension": ".py",
   "mimetype": "text/x-python",
   "name": "python",
   "nbconvert_exporter": "python",
   "pygments_lexer": "ipython3",
   "version": "3.9.6"
  }
 },
 "nbformat": 4,
 "nbformat_minor": 5
}
