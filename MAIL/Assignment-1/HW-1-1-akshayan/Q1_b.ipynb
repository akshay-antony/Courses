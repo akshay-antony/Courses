{
 "cells": [
  {
   "cell_type": "code",
   "execution_count": 2,
   "id": "8d14ccf1",
   "metadata": {},
   "outputs": [],
   "source": [
    "import numpy as np\n",
    "import math"
   ]
  },
  {
   "cell_type": "code",
   "execution_count": 3,
   "id": "8fb83114",
   "metadata": {},
   "outputs": [],
   "source": [
    "n = 5 #number of inputs\n",
    "one_input = []\n",
    "full_input = []\n",
    "sum = 0"
   ]
  },
  {
   "cell_type": "code",
   "execution_count": 4,
   "id": "dd4722f1",
   "metadata": {},
   "outputs": [
    {
     "name": "stdout",
     "output_type": "stream",
     "text": [
      "Enter value of x :-2\n",
      "Enter value of y :2\n",
      "Enter value of x :2\n",
      "Enter value of y :4\n",
      "Enter value of x :3\n",
      "Enter value of y :8\n",
      "Enter value of x :5\n",
      "Enter value of y :11\n",
      "Enter value of x :4\n",
      "Enter value of y :17\n"
     ]
    }
   ],
   "source": [
    "for _ in range(5):\n",
    "        a = input(\"Enter value of x :\")\n",
    "        b = input(\"Enter value of y :\")\n",
    "        full_input.append((a,b))"
   ]
  },
  {
   "cell_type": "code",
   "execution_count": 6,
   "id": "34277057",
   "metadata": {},
   "outputs": [],
   "source": [
    "full_input = np.asarray(full_input,dtype = float)"
   ]
  },
  {
   "cell_type": "code",
   "execution_count": 7,
   "id": "03283c66",
   "metadata": {},
   "outputs": [],
   "source": [
    "y_sum, x_sum, x_y_sum, x_x_sum = 0, 0, 0, 0\n",
    "for i in range(n):\n",
    "    y_sum += full_input[i][1] \n",
    "    x_sum += full_input[i][0]\n",
    "    x_y_sum += full_input[i][0] * full_input[i][1]\n",
    "    x_x_sum += full_input[i][0] ** 2\n"
   ]
  },
  {
   "cell_type": "code",
   "execution_count": 8,
   "id": "ba001103",
   "metadata": {},
   "outputs": [],
   "source": [
    "#Coefficient Matrix for solving linear eqautions\n",
    "A = np.asarray([[n,x_sum],[x_sum,x_x_sum]]) #2*2\n",
    "B = np.asarray([[y_sum],[x_y_sum]])\n",
    "X = np.linalg.solve(A, B)"
   ]
  },
  {
   "cell_type": "code",
   "execution_count": 11,
   "id": "a666572e",
   "metadata": {},
   "outputs": [
    {
     "name": "stdout",
     "output_type": "stream",
     "text": [
      "b0: 4.27, b1: 1.72\n"
     ]
    }
   ],
   "source": [
    "print(\"b0: {:03.2f}, b1: {:03.2f}\".format(X[0][0],X[1][0]))"
   ]
  }
 ],
 "metadata": {
  "kernelspec": {
   "display_name": "Python 3 (ipykernel)",
   "language": "python",
   "name": "python3"
  },
  "language_info": {
   "codemirror_mode": {
    "name": "ipython",
    "version": 3
   },
   "file_extension": ".py",
   "mimetype": "text/x-python",
   "name": "python",
   "nbconvert_exporter": "python",
   "pygments_lexer": "ipython3",
   "version": "3.9.6"
  }
 },
 "nbformat": 4,
 "nbformat_minor": 5
}
