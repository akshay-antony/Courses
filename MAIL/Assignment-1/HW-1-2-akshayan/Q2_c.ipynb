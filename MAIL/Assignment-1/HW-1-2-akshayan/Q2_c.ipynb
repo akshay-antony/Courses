{
 "cells": [
  {
   "cell_type": "code",
   "execution_count": 1,
   "id": "2cf82a58",
   "metadata": {},
   "outputs": [],
   "source": [
    "def same_frequency(num1,num2):\n",
    "    #converting integer to string to use the sorting method\n",
    "    num1 = str(num1)\n",
    "    num2 = str(num2)\n",
    "    #if every elements are in the same frequency sorted of them will be equal\n",
    "    if(sorted(num1) == sorted(num2)):\n",
    "        return True\n",
    "    return False"
   ]
  },
  {
   "cell_type": "code",
   "execution_count": 2,
   "id": "5b5a10db",
   "metadata": {},
   "outputs": [
    {
     "data": {
      "text/plain": [
       "True"
      ]
     },
     "execution_count": 2,
     "metadata": {},
     "output_type": "execute_result"
    }
   ],
   "source": [
    "same_frequency(551122,221515) # True"
   ]
  },
  {
   "cell_type": "code",
   "execution_count": 3,
   "id": "6eff098a",
   "metadata": {},
   "outputs": [
    {
     "data": {
      "text/plain": [
       "False"
      ]
     },
     "execution_count": 3,
     "metadata": {},
     "output_type": "execute_result"
    }
   ],
   "source": [
    "same_frequency(321142,3212215) # False"
   ]
  },
  {
   "cell_type": "code",
   "execution_count": 4,
   "id": "45409f82",
   "metadata": {},
   "outputs": [
    {
     "data": {
      "text/plain": [
       "False"
      ]
     },
     "execution_count": 4,
     "metadata": {},
     "output_type": "execute_result"
    }
   ],
   "source": [
    "same_frequency(12345,31354) # False"
   ]
  },
  {
   "cell_type": "code",
   "execution_count": 5,
   "id": "d5be8ae7",
   "metadata": {},
   "outputs": [
    {
     "data": {
      "text/plain": [
       "True"
      ]
     },
     "execution_count": 5,
     "metadata": {},
     "output_type": "execute_result"
    }
   ],
   "source": [
    "same_frequency(1212, 2211) # True"
   ]
  }
 ],
 "metadata": {
  "kernelspec": {
   "display_name": "Python 3 (ipykernel)",
   "language": "python",
   "name": "python3"
  },
  "language_info": {
   "codemirror_mode": {
    "name": "ipython",
    "version": 3
   },
   "file_extension": ".py",
   "mimetype": "text/x-python",
   "name": "python",
   "nbconvert_exporter": "python",
   "pygments_lexer": "ipython3",
   "version": "3.9.6"
  }
 },
 "nbformat": 4,
 "nbformat_minor": 5
}
