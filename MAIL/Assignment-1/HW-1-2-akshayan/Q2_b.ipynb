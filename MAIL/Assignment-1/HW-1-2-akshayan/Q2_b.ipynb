{
 "cells": [
  {
   "cell_type": "code",
   "execution_count": 1,
   "id": "23ce4bab",
   "metadata": {},
   "outputs": [],
   "source": [
    "#to store the global values of i(number of data) and total\n",
    "i = 0\n",
    "total = 0"
   ]
  },
  {
   "cell_type": "code",
   "execution_count": 2,
   "id": "a3b0e4f6",
   "metadata": {},
   "outputs": [],
   "source": [
    "def moving_average(val):\n",
    "    global i, total\n",
    "    i += 1\n",
    "    total += val\n",
    "    return(round(total/i,1))\n",
    "mAvg = moving_average"
   ]
  },
  {
   "cell_type": "code",
   "execution_count": 3,
   "id": "e4320732",
   "metadata": {},
   "outputs": [
    {
     "name": "stdout",
     "output_type": "stream",
     "text": [
      "10.0\n"
     ]
    }
   ],
   "source": [
    "print(mAvg(10))"
   ]
  },
  {
   "cell_type": "code",
   "execution_count": 4,
   "id": "326cb222",
   "metadata": {},
   "outputs": [
    {
     "name": "stdout",
     "output_type": "stream",
     "text": [
      "10.5\n"
     ]
    }
   ],
   "source": [
    "print(mAvg(11))"
   ]
  },
  {
   "cell_type": "code",
   "execution_count": 5,
   "id": "d4078011",
   "metadata": {},
   "outputs": [
    {
     "name": "stdout",
     "output_type": "stream",
     "text": [
      "11.0\n"
     ]
    }
   ],
   "source": [
    "print(mAvg(12))"
   ]
  },
  {
   "cell_type": "code",
   "execution_count": 6,
   "id": "3abaed91",
   "metadata": {},
   "outputs": [
    {
     "name": "stdout",
     "output_type": "stream",
     "text": [
      "10.9\n"
     ]
    }
   ],
   "source": [
    "print(mAvg(10.77))"
   ]
  }
 ],
 "metadata": {
  "kernelspec": {
   "display_name": "Python 3 (ipykernel)",
   "language": "python",
   "name": "python3"
  },
  "language_info": {
   "codemirror_mode": {
    "name": "ipython",
    "version": 3
   },
   "file_extension": ".py",
   "mimetype": "text/x-python",
   "name": "python",
   "nbconvert_exporter": "python",
   "pygments_lexer": "ipython3",
   "version": "3.9.6"
  }
 },
 "nbformat": 4,
 "nbformat_minor": 5
}
