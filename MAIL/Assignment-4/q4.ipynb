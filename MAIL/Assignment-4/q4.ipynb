{
 "cells": [
  {
   "cell_type": "code",
   "execution_count": 1,
   "id": "1d570cf3",
   "metadata": {},
   "outputs": [],
   "source": [
    "import numpy as np"
   ]
  },
  {
   "cell_type": "markdown",
   "id": "941c41dd",
   "metadata": {},
   "source": [
    "1. Defining the weight matrix, where each of the first columns are biases=1.\n",
    "2. Input matrix is also appended by 1 at the start to show the bias.\n"
   ]
  },
  {
   "cell_type": "code",
   "execution_count": 2,
   "id": "59ce1024",
   "metadata": {},
   "outputs": [],
   "source": [
    "inp = np.asarray([1, 1, 1, 0, 0, 1, 1], dtype=np.float32)\n",
    "alpha = np.asarray([[1, 1, 2, -3, 0, 1, -3],\n",
    "                    [1, 3, 1, 2, 1, 0, 2],\n",
    "                    [1, 2, 2, 2, 2, 2, 1],\n",
    "                    [1, 1, 0, 2, 1, -2, 2]], dtype = np.float32)\n",
    "beta = np.asarray([[1, 1, 2, -2, 1],\n",
    "                   [1, 1, -1, 1, 2],\n",
    "                   [1, 3, 1, -1, 1]], dtype = np.float32)\n"
   ]
  },
  {
   "cell_type": "code",
   "execution_count": 3,
   "id": "51ff2289",
   "metadata": {},
   "outputs": [
    {
     "data": {
      "text/plain": [
       "array([2., 7., 8., 2.], dtype=float32)"
      ]
     },
     "execution_count": 3,
     "metadata": {},
     "output_type": "execute_result"
    }
   ],
   "source": [
    "a = alpha @ inp.T\n",
    "a"
   ]
  },
  {
   "cell_type": "code",
   "execution_count": 4,
   "id": "36b9e212",
   "metadata": {},
   "outputs": [
    {
     "data": {
      "text/plain": [
       "array([1.        , 0.880797  , 0.999089  , 0.99966466, 0.880797  ],\n",
       "      dtype=float32)"
      ]
     },
     "execution_count": 4,
     "metadata": {},
     "output_type": "execute_result"
    }
   ],
   "source": [
    "z = 1. / (1 + np.exp(-a))\n",
    "z\n",
    "z = np.insert(z, 0, 1)\n",
    "z"
   ]
  },
  {
   "cell_type": "code",
   "execution_count": 5,
   "id": "93488bd2",
   "metadata": {},
   "outputs": [
    {
     "data": {
      "text/plain": [
       "array([2.7604427, 3.6429667, 4.5226126], dtype=float32)"
      ]
     },
     "execution_count": 5,
     "metadata": {},
     "output_type": "execute_result"
    }
   ],
   "source": [
    "b = beta @ z.T\n",
    "b"
   ]
  },
  {
   "cell_type": "code",
   "execution_count": 6,
   "id": "736d2000",
   "metadata": {},
   "outputs": [
    {
     "data": {
      "text/plain": [
       "array([0.10820103, 0.26152113, 0.6302779 ], dtype=float32)"
      ]
     },
     "execution_count": 6,
     "metadata": {},
     "output_type": "execute_result"
    }
   ],
   "source": [
    "y = np.exp(b) / np.sum(np.exp(b))\n",
    "y"
   ]
  },
  {
   "cell_type": "markdown",
   "id": "39b926ad",
   "metadata": {},
   "source": [
    "1. From the above arrays we can see that the predicted class is 3.\n",
    "2. The answers are reported separately"
   ]
  },
  {
   "cell_type": "code",
   "execution_count": 7,
   "id": "2d512541",
   "metadata": {},
   "outputs": [
    {
     "data": {
      "text/plain": [
       "1.3412402"
      ]
     },
     "execution_count": 7,
     "metadata": {},
     "output_type": "execute_result"
    }
   ],
   "source": [
    "loss = - np.log(y[1])\n",
    "loss"
   ]
  },
  {
   "cell_type": "markdown",
   "id": "877a777d",
   "metadata": {},
   "source": [
    "\\begin{equation}\n",
    "\\frac{\\partial loss}{\\partial y} * \\frac{\\partial y}{\\partial b} * \\frac{\\partial b}{\\partial \\beta} = \\frac{\\partial loss}{\\partial \\beta}\n",
    "\\end{equation} \\\n",
    "db_dbeta represents the derivative of b w.r.t beta matrix. For the sake of matrix manipulation it is repeated 3 times to make 3 rows \\\n",
    "dy_db represensts derivative of y w.r.t to b, which is the derivative of the softmax \\\n",
    "dloss_dy represents derivative of total loss w.r.t to y, Only 1 derivative is non-zero rest are zero."
   ]
  },
  {
   "cell_type": "code",
   "execution_count": 8,
   "id": "913b5084",
   "metadata": {},
   "outputs": [
    {
     "data": {
      "text/plain": [
       "array([[ 0.10820164,  0.09530368,  0.10721582,  0.1081654 ,  0.09530368],\n",
       "       [-0.73847995, -0.65045092, -0.73175166, -0.73823256, -0.65045092],\n",
       "       [ 0.63027831,  0.55514724,  0.62453584,  0.63006716,  0.55514724]])"
      ]
     },
     "execution_count": 8,
     "metadata": {},
     "output_type": "execute_result"
    }
   ],
   "source": [
    "db_dbeta = np.asarray([[1,0.880797,.990889,.999665,.880797],\n",
    "                       [1,0.880797,.990889,.999665,.880797],\n",
    "                       [1,0.880797,.990889,.999665,.880797]])\n",
    "\n",
    "dy_db = np.asarray([[-.028297],\n",
    "                [.193128],\n",
    "                [-.164831]])\n",
    "\n",
    "dloss_dy = np.asarray([[-3.823785]])\n",
    "\n",
    "dloss_dbeta = db_dbeta * dy_db * dloss_dy\n",
    "dloss_dbeta"
   ]
  },
  {
   "cell_type": "markdown",
   "id": "52de0bad",
   "metadata": {},
   "source": [
    "dloss_dbeta represents: ∂𝑙𝑜𝑠𝑠/∂𝛽 \\\n",
    "by gradient descent we change 𝛽 -= ∂𝑙𝑜𝑠𝑠/∂𝛽 * lr \\\n",
    "lr = 1"
   ]
  },
  {
   "cell_type": "code",
   "execution_count": 9,
   "id": "ae2525c3",
   "metadata": {},
   "outputs": [
    {
     "data": {
      "text/plain": [
       "array([[ 0.8917984 ,  0.90469635,  1.8927842 , -2.1081655 ,  0.90469635],\n",
       "       [ 1.73848   ,  1.650451  , -0.26824835,  1.7382326 ,  2.650451  ],\n",
       "       [ 0.36972168,  2.4448528 ,  0.37546417, -1.6300671 ,  0.44485277]],\n",
       "      dtype=float32)"
      ]
     },
     "execution_count": 9,
     "metadata": {},
     "output_type": "execute_result"
    }
   ],
   "source": [
    "beta -= dloss_dbeta \n",
    "beta"
   ]
  },
  {
   "cell_type": "markdown",
   "id": "4e23f880",
   "metadata": {},
   "source": [
    "To find derivatives w.r.t alpha \\\n",
    "\\begin{equation}\n",
    "\\frac{\\partial loss}{\\partial y} * \\frac{\\partial y}{\\partial b} * \\frac{\\partial b}{\\partial z} * \\frac{\\partial z}{\\partial a} * \\frac{\\partial a}{\\partial \\alpha} = \\frac{\\partial loss}{\\partial \\alpha}\n",
    "\\end{equation} \\\n",
    "calculates this value (∂y/∂b)∗(∂b/∂z) for z1, z2, z3, z4 by using appropriate b's, and is made into the matrix dy_db_dz"
   ]
  },
  {
   "cell_type": "code",
   "execution_count": 10,
   "id": "44e7793f",
   "metadata": {},
   "outputs": [
    {
     "data": {
      "text/plain": [
       "array([[-0.32966198],\n",
       "       [-0.41455252],\n",
       "       [ 0.41455252],\n",
       "       [ 0.19312782]])"
      ]
     },
     "execution_count": 10,
     "metadata": {},
     "output_type": "execute_result"
    }
   ],
   "source": [
    "dy_db_dz1 = np.asarray([-y[0]* y[1]*1, y[1]*(1-y[1])*1, -y[1]*y[2]*3])\n",
    "dy_db_dz2 = np.asarray([-y[0]* y[1]*2, y[1]*(1-y[1])*-1, -y[1]*y[2]*1])\n",
    "dy_db_dz3 = np.asarray([-y[0]* y[1]*-2, y[1]*(1-y[1])*1, -y[1]*y[2]*-1])\n",
    "dy_db_dz4 = np.asarray([-y[0]* y[1]*1, y[1]*(1-y[1])*2, -y[1]*y[2]*1])\n",
    "dy_db_dz = np.asarray([[np.sum(dy_db_dz1)], [np.sum(dy_db_dz2)], [np.sum(dy_db_dz3)], [np.sum(dy_db_dz4)]]) \n",
    "dy_db_dz "
   ]
  },
  {
   "cell_type": "markdown",
   "id": "5fade476",
   "metadata": {},
   "source": [
    "Calculating (∂z/∂a), which is the derivative of sigmoid for z1, z2, z3, z4 wrt corresponding a's and is made into a 4*1, matrix dz_da"
   ]
  },
  {
   "cell_type": "code",
   "execution_count": 11,
   "id": "fefa6da9",
   "metadata": {},
   "outputs": [
    {
     "data": {
      "text/plain": [
       "array([[0.10499362],\n",
       "       [0.00091017],\n",
       "       [0.00033522],\n",
       "       [0.10499362]])"
      ]
     },
     "execution_count": 11,
     "metadata": {},
     "output_type": "execute_result"
    }
   ],
   "source": [
    "dz_da = np.asarray([[z[1]*(1-z[1])], [z[2]*(1-z[2])], [z[3]*(1-z[3])], [z[4]*(1-z[4])]])\n",
    "dz_da "
   ]
  },
  {
   "cell_type": "markdown",
   "id": "fe6d0653",
   "metadata": {},
   "source": [
    "To get (∂a/∂alpha) the input matrix is repeated 4 times. And all the derivative matrices are multiplied"
   ]
  },
  {
   "cell_type": "code",
   "execution_count": 12,
   "id": "741a6e5f",
   "metadata": {},
   "outputs": [
    {
     "data": {
      "text/plain": [
       "array([[ 0.1323504 ,  0.1323504 ,  0.1323504 ,  0.        ,  0.        ,\n",
       "         0.1323504 ,  0.1323504 ],\n",
       "       [ 0.00144276,  0.00144276,  0.00144276,  0.        ,  0.        ,\n",
       "         0.00144276,  0.00144276],\n",
       "       [-0.00053138, -0.00053138, -0.00053138, -0.        , -0.        ,\n",
       "        -0.00053138, -0.00053138],\n",
       "       [-0.07753561, -0.07753561, -0.07753561, -0.        , -0.        ,\n",
       "        -0.07753561, -0.07753561]])"
      ]
     },
     "execution_count": 12,
     "metadata": {},
     "output_type": "execute_result"
    }
   ],
   "source": [
    "da_dalpha = np.asarray([[1, 1, 1, 0, 0, 1, 1],\n",
    "                        [1, 1, 1, 0, 0, 1, 1],\n",
    "                        [1, 1, 1, 0, 0, 1, 1],\n",
    "                        [1, 1, 1, 0, 0, 1, 1]], dtype = np.float32)\n",
    "\n",
    "dloss_dalpha = (dy_db_dz * dz_da) * da_dalpha * dloss_dy\n",
    "dloss_dalpha"
   ]
  },
  {
   "cell_type": "markdown",
   "id": "300e5aad",
   "metadata": {},
   "source": [
    "Doing the gradient descent on alpha and updating"
   ]
  },
  {
   "cell_type": "code",
   "execution_count": 13,
   "id": "d117c739",
   "metadata": {},
   "outputs": [
    {
     "data": {
      "text/plain": [
       "array([[ 8.6764961e-01,  8.6764961e-01,  1.8676496e+00, -3.0000000e+00,\n",
       "         0.0000000e+00,  8.6764961e-01, -3.1323504e+00],\n",
       "       [ 9.9855721e-01,  2.9985573e+00,  9.9855721e-01,  2.0000000e+00,\n",
       "         1.0000000e+00, -1.4427608e-03,  1.9985572e+00],\n",
       "       [ 1.0005314e+00,  2.0005314e+00,  2.0005314e+00,  2.0000000e+00,\n",
       "         2.0000000e+00,  2.0005314e+00,  1.0005314e+00],\n",
       "       [ 1.0775356e+00,  1.0775356e+00,  7.7535614e-02,  2.0000000e+00,\n",
       "         1.0000000e+00, -1.9224644e+00,  2.0775356e+00]], dtype=float32)"
      ]
     },
     "execution_count": 13,
     "metadata": {},
     "output_type": "execute_result"
    }
   ],
   "source": [
    "alpha -= dloss_dalpha \n",
    "alpha"
   ]
  },
  {
   "cell_type": "markdown",
   "id": "33cfd674",
   "metadata": {},
   "source": [
    "Final Prediction which is 2."
   ]
  },
  {
   "cell_type": "code",
   "execution_count": 14,
   "id": "6ed56b0e",
   "metadata": {},
   "outputs": [
    {
     "data": {
      "text/plain": [
       "array([6.669451e-10, 1.000000e+00, 8.454082e-13], dtype=float32)"
      ]
     },
     "execution_count": 14,
     "metadata": {},
     "output_type": "execute_result"
    }
   ],
   "source": [
    "a = (alpha @ inp.T)\n",
    "z = a / (1 + np.exp(-a))\n",
    "z = np.insert(z, 0, 1)\n",
    "b = beta @ z.T\n",
    "y = np.exp(b) / np.sum(np.exp(b))\n",
    "y"
   ]
  },
  {
   "cell_type": "code",
   "execution_count": null,
   "id": "6e6939df",
   "metadata": {},
   "outputs": [],
   "source": []
  }
 ],
 "metadata": {
  "kernelspec": {
   "display_name": "Python 3",
   "language": "python",
   "name": "python3"
  },
  "language_info": {
   "codemirror_mode": {
    "name": "ipython",
    "version": 3
   },
   "file_extension": ".py",
   "mimetype": "text/x-python",
   "name": "python",
   "nbconvert_exporter": "python",
   "pygments_lexer": "ipython3",
   "version": "3.8.8"
  }
 },
 "nbformat": 4,
 "nbformat_minor": 5
}
