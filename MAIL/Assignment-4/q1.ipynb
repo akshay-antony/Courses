{
 "cells": [
  {
   "cell_type": "markdown",
   "metadata": {},
   "source": [
    "# Principal Component Analysis\n",
    "The goal of this question is to build a conceptual understanding of dimensionality reduction using PCA and implement it on a toy dataset. You’ll only have to use numpy and matplotlib for this question."
   ]
  },
  {
   "cell_type": "code",
   "execution_count": 1,
   "metadata": {},
   "outputs": [],
   "source": [
    "import numpy as np \n",
    "import matplotlib.pyplot as plt"
   ]
  },
  {
   "cell_type": "code",
   "execution_count": 7,
   "metadata": {},
   "outputs": [],
   "source": [
    "# (a) Load data (features)\n",
    "def load_data():\n",
    "    filename = \"/home/akshay/Downloads/MAIL/24787HW4-F21/q1-data/features.npy\"\n",
    "    data_ = np.load(filename)\n",
    "    mean_data = np.mean(data_, axis = 0) \n",
    "    std_ = np.std(data_, axis = 0)\n",
    "    data = (data_ - mean_data) / std_\n",
    "    return data"
   ]
  },
  {
   "cell_type": "code",
   "execution_count": 3,
   "metadata": {},
   "outputs": [],
   "source": [
    "# (b) Perform eigen decomposition and return eigen pairs in desecending order of eigen values\n",
    "def eigendecomp(X):\n",
    "    covariance = (1 / X.shape[0]) * (X.T @ X)\n",
    "    e, v = np.linalg.eig(covariance)\n",
    "    sort_idx = np.argsort(e)\n",
    "    sort_idx = sort_idx[::-1]\n",
    "    sorted_eig_vals = e[sort_idx]\n",
    "    sorted_eig_vecs = v[sort_idx]\n",
    "    return (sorted_eig_vals, sorted_eig_vecs)"
   ]
  },
  {
   "cell_type": "code",
   "execution_count": 56,
   "metadata": {},
   "outputs": [],
   "source": [
    "# (c) Evaluate using variance_explained as the metric\n",
    "def eval(sorted_eig_vals):\n",
    "    sum_eig = np.sum(sorted_eig_vals)\n",
    "    for k in range(1, sorted_eig_vals.shape[0]+1, 1):\n",
    "        print(\"k:\", k, np.round(np.sum(sorted_eig_vals[:k]) / sum_eig, 3), \"Eigen Values: \", sorted_eig_vals[:k])\n",
    "#np.round(np.sum(sorted_eig_vals[:k]) / sum_eig, 3),    "
   ]
  },
  {
   "cell_type": "code",
   "execution_count": 57,
   "metadata": {},
   "outputs": [],
   "source": [
    "# (d) Visualize after projecting to 2-D space\n",
    "def viz(sorted_eig_vals, sorted_eig_vecs, data):\n",
    "    projected = data @ sorted_eig_vecs[:,:2]\n",
    "    filename = \"/home/akshay/Downloads/MAIL/24787HW4-F21/q1-data/labels.npy\"\n",
    "    labels = np.load(filename, allow_pickle=True)\n",
    "    class_0 = projected[np.where(labels == 0)]\n",
    "    class_1 = projected[np.where(labels == 1)]\n",
    "    class_2 = projected[np.where(labels == 2)]\n",
    "    fig, ax = plt.subplots(1)\n",
    "    ax.scatter(class_0[:,0], class_0[:,1], color='r', label=\"Class 0\")\n",
    "    ax.scatter(class_1[:,0], class_1[:,1], color='b', label=\"Class 1\")\n",
    "    ax.scatter(class_2[:,0], class_2[:,1], color='g', label=\"Class 2\")\n",
    "    ax.legend()\n",
    "    ax.set_xlabel(\"Feature_1\")\n",
    "    ax.set_ylabel(\"Feature_2\")"
   ]
  },
  {
   "cell_type": "code",
   "execution_count": 58,
   "metadata": {},
   "outputs": [
    {
     "name": "stdout",
     "output_type": "stream",
     "text": [
      "k: 1 0.589 Eigen Values:  [4.71136968]\n",
      "k: 2 0.874 Eigen Values:  [4.71136968 2.2805474 ]\n",
      "k: 3 0.97 Eigen Values:  [4.71136968 2.2805474  0.77173111]\n",
      "k: 4 0.996 Eigen Values:  [4.71136968 2.2805474  0.77173111 0.20281175]\n",
      "k: 5 1.0 Eigen Values:  [4.71136968 2.2805474  0.77173111 0.20281175 0.03354006]\n",
      "k: 6 1.0 Eigen Values:  [4.71136968e+00 2.28054740e+00 7.71731109e-01 2.02811748e-01\n",
      " 3.35400649e-02 5.53596026e-16]\n",
      "k: 7 1.0 Eigen Values:  [4.71136968e+00 2.28054740e+00 7.71731109e-01 2.02811748e-01\n",
      " 3.35400649e-02 5.53596026e-16 3.03086151e-16]\n",
      "k: 8 1.0 Eigen Values:  [ 4.71136968e+00  2.28054740e+00  7.71731109e-01  2.02811748e-01\n",
      "  3.35400649e-02  5.53596026e-16  3.03086151e-16 -6.82293804e-16]\n"
     ]
    },
    {
     "data": {
      "image/png": "[encoded data removed]",
      "text/plain": [
       "<Figure size 432x288 with 1 Axes>"
      ]
     },
     "metadata": {
      "needs_background": "light"
     },
     "output_type": "display_data"
    }
   ],
   "source": [
    "def main():\n",
    "    data = load_data()\n",
    "    sorted_eig_vals, sorted_eig_vecs = eigendecomp(data)\n",
    "    eval(sorted_eig_vals)\n",
    "    viz(sorted_eig_vals, sorted_eig_vecs, data)\n",
    "\n",
    "if __name__ == \"__main__\":\n",
    "    main()"
   ]
  },
  {
   "cell_type": "raw",
   "metadata": {},
   "source": [
    "(e1): If the number of features is 1000 and the number of data points is 10, what will be the dimension of your covariance matrix? Can you suggest what can be changed to improve the performance?"
   ]
  },
  {
   "cell_type": "markdown",
   "metadata": {},
   "source": [
    "The covariance matrix will be 1000*1000 dimension. \n",
    "### To improve the performance\n",
    "1. We should increase the number of data collected.\n",
    "2. We should use PCA to reduce the number of features, preferably to 1 or 2. This will remove the redundant features "
   ]
  },
  {
   "cell_type": "raw",
   "metadata": {},
   "source": [
    "(e2): Assume you have a dataset with the original dimensionality as 2 and you have to reduce it to 1. Provide a sample scatter plot of the original data (less than 10 datapoints) where PCA might produce misleading results. You can plot it by hand and then take a picture. In the next cell, switch to Markdown mode and use the command: ![title](<your_plot_file_path>)"
   ]
  },
  {
   "cell_type": "markdown",
   "metadata": {},
   "source": [
    "### The following x+y is a dataset of 9 data with 2 dimensionality, if we make it 1 dimension the data at one end will be misclassified. "
   ]
  },
  {
   "cell_type": "code",
   "execution_count": 48,
   "metadata": {},
   "outputs": [
    {
     "name": "stdout",
     "output_type": "stream",
     "text": [
      "[2 2 1 2 3] [2 1 2 3 2]\n"
     ]
    },
    {
     "data": {
      "text/plain": [
       "Text(0, 0.5, 'Feature_2')"
      ]
     },
     "execution_count": 48,
     "metadata": {},
     "output_type": "execute_result"
    },
    {
     "data": {
      "image/png": "[encoded data removed]",
      "text/plain": [
       "<Figure size 432x288 with 1 Axes>"
      ]
     },
     "metadata": {
      "needs_background": "light"
     },
     "output_type": "display_data"
    }
   ],
   "source": [
    "x = np.asarray([[2,2], [2,1], [1,2], [2,3], [3,2]])\n",
    "y = np.asarray([[1,1], [3.2,3.2], [3.5,2.9], [.5,.2]])\n",
    "print(x[:,0], x[:,1])\n",
    "fig, ax = plt.subplots(1)\n",
    "ax.scatter(x[:,0], x[:,1], color='r', label=\"Class_1\")\n",
    "ax.scatter(y[:,0], y[:,1], color='g', label=\"Class_2\")\n",
    "ax.set_xlabel(\"Feature_1\")\n",
    "ax.set_ylabel(\"Feature_2\")"
   ]
  },
  {
   "cell_type": "code",
   "execution_count": 49,
   "metadata": {},
   "outputs": [
    {
     "name": "stdout",
     "output_type": "stream",
     "text": [
      "/bin/bash: -c: line 0: syntax error near unexpected token `<'\r\n",
      "/bin/bash: -c: line 0: `[title](<your_plot_file_path>)'\r\n"
     ]
    }
   ],
   "source": []
  },
  {
   "cell_type": "code",
   "execution_count": null,
   "metadata": {},
   "outputs": [],
   "source": []
  }
 ],
 "metadata": {
  "kernelspec": {
   "display_name": "Python 3 (ipykernel)",
   "language": "python",
   "name": "python3"
  },
  "language_info": {
   "codemirror_mode": {
    "name": "ipython",
    "version": 3
   },
   "file_extension": ".py",
   "mimetype": "text/x-python",
   "name": "python",
   "nbconvert_exporter": "python",
   "pygments_lexer": "ipython3",
   "version": "3.9.6"
  }
 },
 "nbformat": 4,
 "nbformat_minor": 2
}
