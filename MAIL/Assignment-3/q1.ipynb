{
 "cells": [
  {
   "cell_type": "markdown",
   "metadata": {},
   "source": [
    "### Important Note for question1 !\n",
    "- Please **do not** change the default variable names in this problem, as we will use them in different parts.\n",
    "- The default variables are initially set to \"None\".\n",
    "- You only need to modify code in the \"TODO\" part. We added a lot of \"assertions\" to check your code. **Do not** modify them."
   ]
  },
  {
   "cell_type": "code",
   "execution_count": 1,
   "metadata": {},
   "outputs": [],
   "source": [
    "# load packages\n",
    "import numpy as np\n",
    "import pandas as pd\n",
    "import time\n",
    "from sklearn.naive_bayes import GaussianNB"
   ]
  },
  {
   "cell_type": "markdown",
   "metadata": {},
   "source": [
    "## P1. Load data and plot\n",
    "### TODO\n",
    "- Load train and test data, and split them into inputs(trainX, testX) and labels(trainY, testY)\n",
    "\n",
    "\n"
   ]
  },
  {
   "cell_type": "code",
   "execution_count": 2,
   "metadata": {},
   "outputs": [],
   "source": [
    "# Use pandas to load q1_train.csv and q1_test.csv\n",
    "# Each data point has 200 features(X), followed by 1 label(Y)\n",
    "\n",
    "#### TODO ####\n",
    "total_data = pd.read_csv(\"/home/akshay/Downloads/MAIL/Fall 2021 Assignment 3/q1_train.csv\")\n",
    "trainX = total_data.iloc[:,1:201]\n",
    "trainY = total_data.iloc[:,201]\n",
    "total_data = pd.read_csv(\"/home/akshay/Downloads/MAIL/Fall 2021 Assignment 3/q1_test.csv\")\n",
    "testX = total_data.iloc[:,1:201]\n",
    "testY = total_data.iloc[:,201]\n",
    "##############\n",
    "\n",
    "assert(len(trainX.shape) == 2)\n",
    "assert(len(trainY.shape) == 1)\n",
    "assert(trainX.shape[1] == 200)"
   ]
  },
  {
   "cell_type": "code",
   "execution_count": 4,
   "metadata": {},
   "outputs": [
    {
     "name": "stdout",
     "output_type": "stream",
     "text": [
      "(134000, 200)\n"
     ]
    },
    {
     "data": {
      "text/plain": [
       "(134000,)"
      ]
     },
     "execution_count": 4,
     "metadata": {},
     "output_type": "execute_result"
    }
   ],
   "source": [
    "# print(type(testX))\n",
    "# N_train = trainX.shape[0]\n",
    "# py0 = (trainY == 0).sum()/N_train\n",
    "# py1 = (trainY == 1).sum()/N_train\n",
    "# print(py0+py1)\n",
    "trainX = trainX.to_numpy()\n",
    "trainY = trainY.to_numpy()\n",
    "testX = testX.to_numpy()\n",
    "testY = testY.to_numpy()\n",
    "print(trainX.shape)\n",
    "#trainX[idx].shape\n",
    "mean0 = np.mean(trainX[np.where(trainY == 0)],axis=0)\n",
    "var0 = np.var(trainX[np.where(trainY == 0)],axis=0)\n",
    "mean1 = np.mean(trainX[np.where(trainY == 1)],axis=0)\n",
    "var1 = np.var(trainX[np.where(trainY == 1)],axis=0)\n",
    "P_x_y0 = (1/(np.sqrt(2*np.pi*var0)))*\\\n",
    "        np.exp(-0.5*np.power((trainX-mean0)/np.sqrt(var0),2))\n",
    "P_x_y1 = (1/(np.sqrt(2*np.pi*var1)))*\\\n",
    "        np.exp(-0.5*np.power((trainX-mean1)/np.sqrt(var1),2))\n",
    "P_x_y0 = np.product(P_x_y0,axis=1)\n",
    "P_x_y0.shape"
   ]
  },
  {
   "cell_type": "markdown",
   "metadata": {},
   "source": [
    "## P2. Write your Gaussian NB solver\n",
    "### TODO\n",
    "- Finish the myNBSolver() function. \n",
    "    - Compute P(y == 0) and P(y == 1), saved in \"py0\" and \"py1\"\n",
    "    - Compute mean/variance of trainX for both y = 0 and y = 1, saved in \"mean0\", \"var0\", \"mean1\" and \"var1\"\n",
    "        - Each of them should have shape (N_train, M), where N_train is number of train samples and M is number of features.\n",
    "    - Compute P(xi | y == 0) and P(xi | y == 1), compare and save **binary** prediction in \"train_pred\" and \"test_pred\"\n",
    "    - Compute train accuracy and test accuracy, saved in \"train_acc\" and \"test_acc\".\n",
    "    - Return train accuracy and test accuracy."
   ]
  },
  {
   "cell_type": "code",
   "execution_count": 9,
   "metadata": {},
   "outputs": [],
   "source": [
    "def myNBSolver(trainX, trainY, testX, testY):\n",
    "    \n",
    "    N_train = trainX.shape[0]\n",
    "    N_test = testX.shape[0]\n",
    "    M = trainX.shape[1]\n",
    "    \n",
    "    #### TODO ####\n",
    "    # Compute P(y == 0) and P(y == 1)\n",
    "    \n",
    "    py0 = np.sum(trainY == 0)/N_train\n",
    "    py1 = np.sum(trainY == 1)/N_train\n",
    "    py0_test = np.sum(testY == 0)/N_test\n",
    "    py1_test = np.sum(testY == 1)/N_test\n",
    "    ##############\n",
    "    print(\"Total probablity is %.2f. Should be equal to 1.\" %(py0 + py1))\n",
    "\n",
    "    #### TODO ####\n",
    "    # Compute mean/var for each label\n",
    "    mean0 = np.mean(trainX[np.where(trainY == 0)],axis=0)\n",
    "    mean1 = np.mean(trainX[np.where(trainY == 1)],axis=0)\n",
    "    var0 = np.var(trainX[np.where(trainY == 0)],axis=0)\n",
    "    var1 = np.var(trainX[np.where(trainY == 1)],axis=0)\n",
    "    \n",
    "    ##############\n",
    "    assert(mean0.shape[0] == M)\n",
    "    \n",
    "    #### TODO ####\n",
    "    # Compute P(xi|y == 0) and P(xi|y == 1), compare and make prediction\n",
    "    # This part may spend 5 - 10 minutes or even more if you use for loop, so feel free to \n",
    "    # print something (like step number) to check the progress\n",
    "    # P(xi|y == 0)\n",
    "    P_x_y0 = (1/(np.sqrt(2*np.pi*var0)))*\\\n",
    "             np.exp(-0.5*np.power((trainX-mean0)/np.sqrt(var0),2))\n",
    "    P_x_y0 = np.product(P_x_y0,axis=1)\n",
    "    # P(xi|y == 0)\n",
    "    P_x_y1 = (1/(np.sqrt(2*np.pi*var1)))*\\\n",
    "             np.exp(-0.5*np.power((trainX-mean1)/np.sqrt(var1),2))\n",
    "    P_x_y1 = np.product(P_x_y1,axis=1)\n",
    "    \n",
    "    # P(xi|y == 0) for test\n",
    "    P_x_y0_test = (1/(np.sqrt(2*np.pi*var0)))*\\\n",
    "             np.exp(-0.5*np.power((testX-mean0)/np.sqrt(var0),2))\n",
    "    P_x_y0_test = np.product(P_x_y0_test,axis=1)\n",
    "    # P(xi|y == 0) for test\n",
    "    P_x_y1_test = (1/(np.sqrt(2*np.pi*var1)))*\\\n",
    "             np.exp(-0.5*np.power((testX-mean1)/np.sqrt(var1),2))\n",
    "    P_x_y1_test = np.product(P_x_y1_test,axis=1)\n",
    "    \n",
    "    #calculating P(y=0/x) and P(y=1/x), we are calculating only the numerator\n",
    "    # as to compare, the denominator is constant for both.\n",
    "    P_x_y0 = P_x_y0*py0\n",
    "    P_x_y1 *= py1\n",
    "    P_x_y0_test *= py0_test\n",
    "    P_x_y1_test *= py1_test\n",
    "    \n",
    "    train_pred = np.empty((N_train))\n",
    "    train_pred = np.where(P_x_y0>P_x_y1,0,1)\n",
    "    test_pred = np.empty((N_test))\n",
    "    test_pred = np.where(P_x_y0_test>P_x_y1_test,0,1)\n",
    "    ##############\n",
    "    assert(train_pred[0] == 0 or train_pred[0] == 1)\n",
    "    assert(test_pred[0] == 0 or test_pred[0] == 1)\n",
    "    \n",
    "    #### TODO ####\n",
    "    # Compute train accuracy and test accuracy\n",
    "    \n",
    "    train_acc = np.sum(trainY == train_pred)/N_train\n",
    "    test_acc = np.sum(testY == test_pred)/N_test\n",
    "    \n",
    "    ##############\n",
    "    \n",
    "    return train_acc, test_acc"
   ]
  },
  {
   "cell_type": "code",
   "execution_count": 10,
   "metadata": {},
   "outputs": [
    {
     "name": "stdout",
     "output_type": "stream",
     "text": [
      "Total probablity is 1.00. Should be equal to 1.\n",
      "Train accuracy is 92.22\n",
      "Test accuracy is 92.08\n"
     ]
    }
   ],
   "source": [
    "# driver to test your NB solver\n",
    "train_acc, test_acc = myNBSolver(trainX, trainY, testX, testY)\n",
    "print(\"Train accuracy is %.2f\" %(train_acc * 100))\n",
    "print(\"Test accuracy is %.2f\" %(test_acc * 100))"
   ]
  },
  {
   "cell_type": "markdown",
   "metadata": {},
   "source": [
    "## P3. Test your result using sklearn\n",
    "### TODO\n",
    "- Finish the skNBSolver() function. \n",
    "     - fit model, make prediction and return accuracy for train and test sets."
   ]
  },
  {
   "cell_type": "code",
   "execution_count": 57,
   "metadata": {},
   "outputs": [],
   "source": [
    "def skNBSolver(trainX, trainY, testX, testY):\n",
    "    \n",
    "    #### TODO ####\n",
    "    # fit model\n",
    "    # make prediction\n",
    "    # compute accuracy\n",
    "    model = GaussianNB()\n",
    "    trained = model.fit(trainX,trainY)\n",
    "    sk_train_acc = np.sum(trainY == trained.predict(trainX))/trainX.shape[0]\n",
    "    sk_test_acc = np.sum(testY == trained.predict(testX))/testX.shape[0]\n",
    "    \n",
    "    ##############\n",
    "    return sk_train_acc, sk_test_acc\n",
    "    "
   ]
  },
  {
   "cell_type": "code",
   "execution_count": 58,
   "metadata": {},
   "outputs": [
    {
     "name": "stdout",
     "output_type": "stream",
     "text": [
      "Train accuracy is 92.22\n",
      "Test accuracy is 92.05\n"
     ]
    }
   ],
   "source": [
    "# driver to test skNBSolver\n",
    "sk_train_acc, sk_test_acc = skNBSolver(trainX, trainY, testX, testY)\n",
    "print(\"Train accuracy is %.2f\" %(sk_train_acc * 100))\n",
    "print(\"Test accuracy is %.2f\" %(sk_test_acc * 100))"
   ]
  },
  {
   "cell_type": "code",
   "execution_count": null,
   "metadata": {},
   "outputs": [],
   "source": []
  }
 ],
 "metadata": {
  "kernelspec": {
   "display_name": "Python 3",
   "language": "python",
   "name": "python3"
  },
  "language_info": {
   "codemirror_mode": {
    "name": "ipython",
    "version": 3
   },
   "file_extension": ".py",
   "mimetype": "text/x-python",
   "name": "python",
   "nbconvert_exporter": "python",
   "pygments_lexer": "ipython3",
   "version": "3.8.8"
  }
 },
 "nbformat": 4,
 "nbformat_minor": 2
}
