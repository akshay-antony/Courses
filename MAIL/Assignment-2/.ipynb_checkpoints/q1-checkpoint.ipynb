{
 "cells": [
  {
   "cell_type": "code",
   "execution_count": 1,
   "id": "93bf755b",
   "metadata": {},
   "outputs": [],
   "source": [
    "import numpy as np\n",
    "import matplotlib.pyplot as plt"
   ]
  },
  {
   "cell_type": "markdown",
   "id": "b3270c52",
   "metadata": {},
   "source": [
    "## Q1_a"
   ]
  },
  {
   "cell_type": "code",
   "execution_count": 8,
   "id": "c9fda3db",
   "metadata": {},
   "outputs": [
    {
     "name": "stdout",
     "output_type": "stream",
     "text": [
      "[[[2 6 4 1]\n",
      "  [0 4 4 3]\n",
      "  [6 6 1 2]\n",
      "  [7 0 6 5]]\n",
      "\n",
      " [[1 3 3 7]\n",
      "  [4 7 2 5]\n",
      "  [0 4 6 7]\n",
      "  [5 5 7 1]]\n",
      "\n",
      " [[7 2 4 5]\n",
      "  [6 7 7 0]\n",
      "  [6 2 0 4]\n",
      "  [2 0 7 6]]] \n",
      "\n",
      "(3, 4, 4)\n"
     ]
    }
   ],
   "source": [
    "np.random.seed(24787)\n",
    "a = np.random.randint(low = 0, high = 8, size = (3,4,4))\n",
    "#printing the array and its shape\n",
    "print(a,\"\\n\")\n",
    "print(a.shape)"
   ]
  },
  {
   "cell_type": "code",
   "execution_count": 9,
   "id": "4ff72fd1",
   "metadata": {},
   "outputs": [
    {
     "name": "stdout",
     "output_type": "stream",
     "text": [
      "row_indices: [0 1 1 1 2 0 2] column_indices [2 1 2 0 1 2 3]\n"
     ]
    }
   ],
   "source": [
    "four_indices = np.where(a == 4)\n",
    "print(\"row_indices:\",four_indices[1],\"column_indices\",four_indices[2])\n",
    "#four_indices[2] denotes the depth index of value 4"
   ]
  },
  {
   "cell_type": "markdown",
   "id": "895a11d7",
   "metadata": {},
   "source": [
    "## Q1_b, using tile to make a  (3,8,8) array"
   ]
  },
  {
   "cell_type": "code",
   "execution_count": 15,
   "id": "f1dc2848",
   "metadata": {},
   "outputs": [
    {
     "name": "stdout",
     "output_type": "stream",
     "text": [
      "(3, 8, 8)\n"
     ]
    }
   ],
   "source": [
    "b = np.tile(a,(1,2,2))\n",
    "#print(b)\n",
    "print(b.shape)"
   ]
  },
  {
   "cell_type": "markdown",
   "id": "03aae314",
   "metadata": {},
   "source": [
    "## Q1_c, calculating sum along depth of b"
   ]
  },
  {
   "cell_type": "code",
   "execution_count": 16,
   "id": "441acd59",
   "metadata": {},
   "outputs": [
    {
     "name": "stdout",
     "output_type": "stream",
     "text": [
      "[[10 11 11 13 10 11 11 13]\n",
      " [10 18 13  8 10 18 13  8]\n",
      " [12 12  7 13 12 12  7 13]\n",
      " [14  5 20 12 14  5 20 12]\n",
      " [10 11 11 13 10 11 11 13]\n",
      " [10 18 13  8 10 18 13  8]\n",
      " [12 12  7 13 12 12  7 13]\n",
      " [14  5 20 12 14  5 20 12]]\n",
      "(8, 8)\n"
     ]
    }
   ],
   "source": [
    "c = np.sum(b,axis=0)\n",
    "print(c)\n",
    "print(c.shape)"
   ]
  },
  {
   "cell_type": "code",
   "execution_count": 30,
   "id": "b252def8",
   "metadata": {},
   "outputs": [],
   "source": [
    "import time\n",
    "np.random.seed(24787)\n",
    "a = np.random.randint(0,8,(1000,1000))\n",
    "b = np.random.randint(0,8,(1000,1000))\n",
    "#declaring array to hold the result\n",
    "c = np.zeros_like(b)\n",
    "\n",
    "def matmul(a,b):\n",
    "    start = time.time()\n",
    "    for i in range(a.shape[0]):\n",
    "        for j in range(b.shape[1]):\n",
    "            c[i,j] = np.dot(a[i],b[:,j].T)\n",
    "    time_taken = time.time() - start\n",
    "    return c,time_taken"
   ]
  },
  {
   "cell_type": "code",
   "execution_count": 31,
   "id": "98b726c6",
   "metadata": {},
   "outputs": [
    {
     "name": "stdout",
     "output_type": "stream",
     "text": [
      "Output by matmul function: \n",
      " [[12146 12253 12302 ... 12123 12415 12239]\n",
      " [12251 12131 12180 ... 12691 12396 12497]\n",
      " [11434 11864 12043 ... 12348 11960 12207]\n",
      " ...\n",
      " [11774 11945 12276 ... 12339 12178 12059]\n",
      " [11627 12167 12254 ... 11929 11958 12078]\n",
      " [11560 12145 12077 ... 12210 12124 12031]]\n",
      "Output by @ operator: \n",
      " [[12146 12253 12302 ... 12123 12415 12239]\n",
      " [12251 12131 12180 ... 12691 12396 12497]\n",
      " [11434 11864 12043 ... 12348 11960 12207]\n",
      " ...\n",
      " [11774 11945 12276 ... 12339 12178 12059]\n",
      " [11627 12167 12254 ... 11929 11958 12078]\n",
      " [11560 12145 12077 ... 12210 12124 12031]]\n",
      "difference between matmul and @: \n",
      " [[0 0 0 ... 0 0 0]\n",
      " [0 0 0 ... 0 0 0]\n",
      " [0 0 0 ... 0 0 0]\n",
      " ...\n",
      " [0 0 0 ... 0 0 0]\n",
      " [0 0 0 ... 0 0 0]\n",
      " [0 0 0 ... 0 0 0]]\n",
      "Time taken for matmul:  4.92743706703186\n",
      "Time taken for @:  1.779259204864502\n"
     ]
    }
   ],
   "source": [
    "c, time_taken_manual = matmul(a,b)\n",
    "start = time.time()\n",
    "C = a@b\n",
    "time_taken_inbuilt = time.time() - start\n",
    "print(\"Output by matmul function: \\n\",c)\n",
    "print(\"Output by @ operator: \\n\", C)\n",
    "print(\"Difference between matmul and @: \\n\", C - c)\n",
    "print(\"Time taken for matmul: \",time_taken_manual)\n",
    "print(\"Time taken for @: \",time_taken_inbuilt)"
   ]
  },
  {
   "cell_type": "markdown",
   "id": "4aa5c14e",
   "metadata": {},
   "source": [
    "### The difference between C and c = 0, which shows the correctness of our method. The matmul takes 4.92s almost 3 times for @ operator which takes 1.78s"
   ]
  },
  {
   "cell_type": "markdown",
   "id": "b8dff5bd",
   "metadata": {},
   "source": [
    "The reason for faster performance of @ operator, is beacuse in our method the loop runs for 1000000 times. While @ operator runs multiplication of various rows of a and columns of b parallelly"
   ]
  },
  {
   "cell_type": "code",
   "execution_count": null,
   "id": "eab3bf45",
   "metadata": {},
   "outputs": [],
   "source": []
  }
 ],
 "metadata": {
  "kernelspec": {
   "display_name": "Python 3 (ipykernel)",
   "language": "python",
   "name": "python3"
  },
  "language_info": {
   "codemirror_mode": {
    "name": "ipython",
    "version": 3
   },
   "file_extension": ".py",
   "mimetype": "text/x-python",
   "name": "python",
   "nbconvert_exporter": "python",
   "pygments_lexer": "ipython3",
   "version": "3.8.8"
  }
 },
 "nbformat": 4,
 "nbformat_minor": 5
}
