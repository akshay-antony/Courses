{
 "cells": [
  {
   "cell_type": "code",
   "execution_count": 13,
   "id": "2cc4b6f1",
   "metadata": {},
   "outputs": [],
   "source": [
    "import cv2\n",
    "import numpy as np\n",
    "import os\n",
    "#callback of trackbar\n",
    "def nothing(x):\n",
    "    pass\n",
    "\n",
    "filename = \"/home/akshay/Downloads/CV/ps-3-q/ps3-images/gear.png\"\n",
    "input_image = cv2.imread(\"/home/akshay/Downloads/CV/ps-3-q/ps3-images/gear.png\")\n",
    "\n",
    "cv2.namedWindow('image',  cv2.WINDOW_KEEPRATIO)\n",
    "# create trackbars for color change\n",
    "cv2.createTrackbar('aperture','image',1,2,nothing)\n",
    "cv2.createTrackbar('L2norm','image',0,1,nothing)\n",
    "cv2.createTrackbar('threshold1','image',0,255,nothing)\n",
    "cv2.createTrackbar('threshold2','image',0,255,nothing)\n",
    "#aperture size limited in (3,5,7) in Canny function\n",
    "#so the result from trackbar aperture is modified as \n",
    "#2*aperture+3\n",
    "\n",
    "threshold1,threshold,L2,aperture = 0,0,0,0\n",
    "while(1):\n",
    "    # get current positions of four trackbars\n",
    "    threshold1 = cv2.getTrackbarPos('threshold1','image')\n",
    "    threshold2 = cv2.getTrackbarPos('threshold2','image')\n",
    "    aperture = cv2.getTrackbarPos('aperture','image')\n",
    "    L2 = bool(cv2.getTrackbarPos('L2norm','image'))\n",
    "    new_image = cv2.Canny(input_image,threshold1,threshold2,apertureSize=2*aperture+3,L2gradient=L2)\n",
    "    new_image = np.uint8(np.where(new_image>127,0,255))\n",
    "    cv2.imshow(\"image\",new_image)\n",
    "    k = cv2.waitKey(1) & 0xFF\n",
    "    if k == 27:\n",
    "        break\n",
    "cv2.destroyAllWindows()"
   ]
  },
  {
   "cell_type": "code",
   "execution_count": 14,
   "id": "ecaf9d58",
   "metadata": {},
   "outputs": [
    {
     "name": "stdout",
     "output_type": "stream",
     "text": [
      "60 104 0 True\n",
      "Successfully saved\n"
     ]
    }
   ],
   "source": [
    "first_name = os.path.basename(filename)\n",
    "first_name = first_name.split('.',1)[0]\n",
    "write_filename = first_name + \"-canny.png\"\n",
    "print(threshold1,threshold2,aperture,L2)\n",
    "if(cv2.imwrite(write_filename,new_image)):\n",
    "    print(\"Successfully saved\")\n",
    "else:\n",
    "    print(\"Unsuccessfull\")\n",
    "\n"
   ]
  },
  {
   "cell_type": "code",
   "execution_count": null,
   "id": "704b1449",
   "metadata": {},
   "outputs": [],
   "source": [
    "import numpy as np\n",
    "import cv2"
   ]
  },
  {
   "cell_type": "code",
   "execution_count": null,
   "id": "b7e469a2",
   "metadata": {},
   "outputs": [],
   "source": [
    "filename = \"/home/akshay/Downloads/CV/ps-3-q/ps3-images/cheerios.png\"\n",
    "#creating the object\n",
    "gray_image = cv2.imread(filename)\n",
    "gray_image = cv2.cvtColor(gray_image,cv2.COLOR_BGR2GRAY)\n",
    "sobel_filter_x = np.asarray([[-1.,0,1.],[-2.,0,2.],[-1.,0,1.]])\n",
    "sobel_filter_y = np.asarray([[1.,2.,1.],[0.,0.,0.],[-1.,-2.,-1.]])\n",
    "edge = cv2.Sobel(gray_image,cv2.CV_64F,1,0,ksize=3)\n",
    "edge = np.uint8(np.absolute(edge))\n",
    "cv2.imshow(\"check\",edge)\n",
    "cv2.waitKey(0)"
   ]
  },
  {
   "cell_type": "code",
   "execution_count": null,
   "id": "59b911b8",
   "metadata": {},
   "outputs": [],
   "source": []
  },
  {
   "cell_type": "code",
   "execution_count": null,
   "id": "0278c75c",
   "metadata": {},
   "outputs": [],
   "source": []
  }
 ],
 "metadata": {
  "kernelspec": {
   "display_name": "Python 3 (ipykernel)",
   "language": "python",
   "name": "python3"
  },
  "language_info": {
   "codemirror_mode": {
    "name": "ipython",
    "version": 3
   },
   "file_extension": ".py",
   "mimetype": "text/x-python",
   "name": "python",
   "nbconvert_exporter": "python",
   "pygments_lexer": "ipython3",
   "version": "3.9.6"
  }
 },
 "nbformat": 4,
 "nbformat_minor": 5
}
