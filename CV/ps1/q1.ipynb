{
 "cells": [
  {
   "cell_type": "code",
   "execution_count": 4,
   "id": "d947a380",
   "metadata": {},
   "outputs": [],
   "source": [
    "import cv2\n",
    "import numpy as np\n",
    "import matplotlib.pyplot as plt"
   ]
  },
  {
   "cell_type": "code",
   "execution_count": 11,
   "id": "5f79394c",
   "metadata": {},
   "outputs": [
    {
     "data": {
      "text/plain": [
       "array([[[  0, 255, 255]]], dtype=uint8)"
      ]
     },
     "execution_count": 11,
     "metadata": {},
     "output_type": "execute_result"
    }
   ],
   "source": [
    "hsv = np.uint8([[[0,0,255]]])\n",
    "hsv_green = cv2.cvtColor(hsv,cv2.COLOR_BGR2HSV)\n",
    "hsv_green"
   ]
  },
  {
   "cell_type": "code",
   "execution_count": 4,
   "id": "8276ab49",
   "metadata": {},
   "outputs": [
    {
     "name": "stdout",
     "output_type": "stream",
     "text": [
      "(960, 735, 3)\n",
      "Please input the gamma value : 4\n",
      "4\n"
     ]
    }
   ],
   "source": [
    "filename = \"/home/akshay/Downloads/CV/ps1-images/smiley.jpg\"\n",
    "image_input = cv2.imread(filename)\n",
    "print(image_input.shape)\n",
    "#image_input = cv2.cvtColor(image_input,code=cv2.COLOR_BGR2GRAY)\n",
    "image_input = np.asarray(image_input,dtype=np.float64)\n",
    "gamma = input(\"Please input the gamma value : \")\n",
    "print(gamma)\n",
    "new_gamma_corrected_image = (pow(image_input,float(gamma)))/255\n",
    "\n",
    "#new_gamma_corrected_image = np.zeros_like(image_input)\n",
    "cv2.imshow(\"new_image\",new_gamma_corrected_image)"
   ]
  },
  {
   "cell_type": "code",
   "execution_count": null,
   "id": "ab14a909",
   "metadata": {},
   "outputs": [],
   "source": [
    "a = np.asarray([[1,2,3],[2,1,3],[2,3,4]])\n",
    "a = np.power(a,2)\n",
    "a"
   ]
  },
  {
   "cell_type": "code",
   "execution_count": null,
   "id": "f022fedb",
   "metadata": {},
   "outputs": [],
   "source": []
  },
  {
   "cell_type": "code",
   "execution_count": null,
   "id": "a14e94ca",
   "metadata": {},
   "outputs": [],
   "source": []
  }
 ],
 "metadata": {
  "kernelspec": {
   "display_name": "Python 3 (ipykernel)",
   "language": "python",
   "name": "python3"
  },
  "language_info": {
   "codemirror_mode": {
    "name": "ipython",
    "version": 3
   },
   "file_extension": ".py",
   "mimetype": "text/x-python",
   "name": "python",
   "nbconvert_exporter": "python",
   "pygments_lexer": "ipython3",
   "version": "3.9.6"
  }
 },
 "nbformat": 4,
 "nbformat_minor": 5
}
