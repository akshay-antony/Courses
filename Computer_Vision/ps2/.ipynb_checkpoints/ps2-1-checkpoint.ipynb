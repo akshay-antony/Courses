{
 "cells": [
  {
   "cell_type": "code",
   "execution_count": 2,
   "id": "1f3ac406",
   "metadata": {},
   "outputs": [
    {
     "ename": "IndentationError",
     "evalue": "unindent does not match any outer indentation level (<tokenize>, line 30)",
     "output_type": "error",
     "traceback": [
      "\u001b[0;36m  File \u001b[0;32m\"<tokenize>\"\u001b[0;36m, line \u001b[0;32m30\u001b[0m\n\u001b[0;31m    n += 1\u001b[0m\n\u001b[0m    ^\u001b[0m\n\u001b[0;31mIndentationError\u001b[0m\u001b[0;31m:\u001b[0m unindent does not match any outer indentation level\n"
     ]
    }
   ],
   "source": [
    "import cv2\n",
    "import numpy as np\n",
    "\n",
    "\n",
    "filename = \"/home/akshay/Downloads/CV/ps-2-q/ps2-images/topography.png\"\n",
    "input_image = cv2.imread(filename)\n",
    "\n",
    "#Displaying the input\n",
    "cv2.imshow(\"input image\",input_image)\n",
    "pixel_max = np.amax(input_image)\n",
    "pixel_min = np.amin(input_image)\n",
    "step_length = int((pixel_max - pixel_min)/4)\n",
    "\n",
    "m, n, _ = input_image.shape\n",
    "\n",
    "input_gray = cv2.cvtColor(input_image,code=cv2.COLOR_BGR2GRAY)\n",
    "\n",
    "#Finding the index of the maximum intensity value\n",
    "a,b = np.unravel_index(input_gray.argmax(), input_gray.shape)\n",
    "x, y = 0,0\n",
    "n = 0\n",
    "max_gray_val_list = []\n",
    "#taking all the coordinates of maximum pixel values\n",
    "for i in range(m):\n",
    "    for j in range(n):\n",
    "        if input_gray[i,j] == pixel_max:\n",
    "            max_gray_val_list.append((i,j))\n",
    "            x += i\n",
    "            y += j\n",
    "            n += 1\n",
    "\n",
    "centre_coordinates = (int(y/len(max_gray_val_list)),int(x/len(max_gray_val_list)))\n",
    "\n",
    "lut = np.zeros((256,1,3), dtype=np.uint8)\n",
    "for i in range(pixel_min,pixel_min+step_length,1):\n",
    "\tlut[i][0][0] = 255\n",
    "\tlut[i][0][1] = (255/step_length)*i\n",
    "\tlut[i][0][2] = 0\n",
    "\n",
    "for j in range(pixel_min + step_length , pixel_min + 2*step_length,1):\n",
    "\tlut[j][0][0] = 255 - (255/step_length)*(j - pixel_min - step_length)\n",
    "\tlut[j][0][1] = 255\n",
    "\tlut[j][0][2] = 0\n",
    "\n",
    "for k in range(pixel_min + 2*step_length,pixel_min + 3*step_length,1):\n",
    "\tlut[k][0][0] = 0\n",
    "\tlut[k][0][1] = 255\n",
    "\tlut[k][0][2] = (255/step_length)*(k - pixel_min - 2*step_length)\n",
    "\n",
    "for l in range(pixel_min + 3*step_length, pixel_max + 1,1):\n",
    "\tlut[l][0][0] = 0\n",
    "\tlut[l][0][1] = 255 - (255/(pixel_max - pixel_min -3*step_length))*(l - pixel_min - 3*step_length)\n",
    "\tlut[l][0][2] = 255\n",
    "\n",
    "output_image = np.zeros_like(input_image)\n",
    "\n",
    "for i in range(m):\n",
    "\tfor j in range(n):\n",
    "\t\toutput_image[i][j] = lut[input_image[i][j]][0]\n",
    "\n",
    "output_image = cv2.circle(output_image,centre_coordinates,10,(0,0,0),3)\n",
    "# output_image = cv2.LUT(input_image,lut)\n",
    "cv2.imshow(\"OUTPUT\",output_image)\n",
    "cv2.waitKey(0)"
   ]
  },
  {
   "cell_type": "code",
   "execution_count": null,
   "id": "8f31e35e",
   "metadata": {},
   "outputs": [],
   "source": []
  }
 ],
 "metadata": {
  "kernelspec": {
   "display_name": "Python 3 (ipykernel)",
   "language": "python",
   "name": "python3"
  },
  "language_info": {
   "codemirror_mode": {
    "name": "ipython",
    "version": 3
   },
   "file_extension": ".py",
   "mimetype": "text/x-python",
   "name": "python",
   "nbconvert_exporter": "python",
   "pygments_lexer": "ipython3",
   "version": "3.9.6"
  }
 },
 "nbformat": 4,
 "nbformat_minor": 5
}
