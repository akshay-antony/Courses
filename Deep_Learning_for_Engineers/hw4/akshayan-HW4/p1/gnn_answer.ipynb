{
  "cells": [
    {
      "cell_type": "code",
      "execution_count": 1,
      "metadata": {
        "colab": {
          "base_uri": "https://localhost:8080/",
          "height": 0
        },
        "id": "PSosSQMxnfiA",
        "outputId": "c297fcb7-3f78-4580-ed71-f1a47d500995"
      },
      "outputs": [
        {
          "output_type": "stream",
          "name": "stdout",
          "text": [
            "Looking in indexes: https://pypi.org/simple, https://download.pytorch.org/whl/cpu\n",
            "Requirement already satisfied: torch in /usr/local/lib/python3.7/dist-packages (1.11.0+cu113)\n",
            "Requirement already satisfied: torchvision in /usr/local/lib/python3.7/dist-packages (0.12.0+cu113)\n",
            "Requirement already satisfied: torchaudio in /usr/local/lib/python3.7/dist-packages (0.11.0+cu113)\n",
            "Requirement already satisfied: typing-extensions in /usr/local/lib/python3.7/dist-packages (from torch) (4.2.0)\n",
            "Requirement already satisfied: requests in /usr/local/lib/python3.7/dist-packages (from torchvision) (2.23.0)\n",
            "Requirement already satisfied: pillow!=8.3.*,>=5.3.0 in /usr/local/lib/python3.7/dist-packages (from torchvision) (7.1.2)\n",
            "Requirement already satisfied: numpy in /usr/local/lib/python3.7/dist-packages (from torchvision) (1.21.6)\n",
            "Requirement already satisfied: chardet<4,>=3.0.2 in /usr/local/lib/python3.7/dist-packages (from requests->torchvision) (3.0.4)\n",
            "Requirement already satisfied: certifi>=2017.4.17 in /usr/local/lib/python3.7/dist-packages (from requests->torchvision) (2021.10.8)\n",
            "Requirement already satisfied: idna<3,>=2.5 in /usr/local/lib/python3.7/dist-packages (from requests->torchvision) (2.10)\n",
            "Requirement already satisfied: urllib3!=1.25.0,!=1.25.1,<1.26,>=1.21.1 in /usr/local/lib/python3.7/dist-packages (from requests->torchvision) (1.24.3)\n",
            "Looking in links: https://data.pyg.org/whl/torch-1.11.0+cpu.html\n",
            "Collecting torch-scatter\n",
            "  Downloading https://data.pyg.org/whl/torch-1.11.0%2Bcpu/torch_scatter-2.0.9-cp37-cp37m-linux_x86_64.whl (291 kB)\n",
            "\u001b[K     |████████████████████████████████| 291 kB 194 kB/s \n",
            "\u001b[?25hCollecting torch-sparse\n",
            "  Downloading https://data.pyg.org/whl/torch-1.11.0%2Bcpu/torch_sparse-0.6.13-cp37-cp37m-linux_x86_64.whl (635 kB)\n",
            "\u001b[K     |████████████████████████████████| 635 kB 201 kB/s \n",
            "\u001b[?25hCollecting torch-cluster\n",
            "  Downloading https://data.pyg.org/whl/torch-1.11.0%2Bcpu/torch_cluster-1.6.0-cp37-cp37m-linux_x86_64.whl (320 kB)\n",
            "\u001b[K     |████████████████████████████████| 320 kB 34.2 MB/s \n",
            "\u001b[?25hCollecting torch-spline-conv\n",
            "  Downloading https://data.pyg.org/whl/torch-1.11.0%2Bcpu/torch_spline_conv-1.2.1-cp37-cp37m-linux_x86_64.whl (140 kB)\n",
            "\u001b[K     |████████████████████████████████| 140 kB 40.5 MB/s \n",
            "\u001b[?25hCollecting torch-geometric\n",
            "  Downloading torch_geometric-2.0.4.tar.gz (407 kB)\n",
            "\u001b[K     |████████████████████████████████| 407 kB 4.4 MB/s \n",
            "\u001b[?25hRequirement already satisfied: scipy in /usr/local/lib/python3.7/dist-packages (from torch-sparse) (1.4.1)\n",
            "Requirement already satisfied: tqdm in /usr/local/lib/python3.7/dist-packages (from torch-geometric) (4.64.0)\n",
            "Requirement already satisfied: numpy in /usr/local/lib/python3.7/dist-packages (from torch-geometric) (1.21.6)\n",
            "Requirement already satisfied: pandas in /usr/local/lib/python3.7/dist-packages (from torch-geometric) (1.3.5)\n",
            "Requirement already satisfied: jinja2 in /usr/local/lib/python3.7/dist-packages (from torch-geometric) (2.11.3)\n",
            "Requirement already satisfied: requests in /usr/local/lib/python3.7/dist-packages (from torch-geometric) (2.23.0)\n",
            "Requirement already satisfied: pyparsing in /usr/local/lib/python3.7/dist-packages (from torch-geometric) (3.0.8)\n",
            "Requirement already satisfied: scikit-learn in /usr/local/lib/python3.7/dist-packages (from torch-geometric) (1.0.2)\n",
            "Requirement already satisfied: MarkupSafe>=0.23 in /usr/local/lib/python3.7/dist-packages (from jinja2->torch-geometric) (2.0.1)\n",
            "Requirement already satisfied: python-dateutil>=2.7.3 in /usr/local/lib/python3.7/dist-packages (from pandas->torch-geometric) (2.8.2)\n",
            "Requirement already satisfied: pytz>=2017.3 in /usr/local/lib/python3.7/dist-packages (from pandas->torch-geometric) (2022.1)\n",
            "Requirement already satisfied: six>=1.5 in /usr/local/lib/python3.7/dist-packages (from python-dateutil>=2.7.3->pandas->torch-geometric) (1.15.0)\n",
            "Requirement already satisfied: certifi>=2017.4.17 in /usr/local/lib/python3.7/dist-packages (from requests->torch-geometric) (2021.10.8)\n",
            "Requirement already satisfied: urllib3!=1.25.0,!=1.25.1,<1.26,>=1.21.1 in /usr/local/lib/python3.7/dist-packages (from requests->torch-geometric) (1.24.3)\n",
            "Requirement already satisfied: chardet<4,>=3.0.2 in /usr/local/lib/python3.7/dist-packages (from requests->torch-geometric) (3.0.4)\n",
            "Requirement already satisfied: idna<3,>=2.5 in /usr/local/lib/python3.7/dist-packages (from requests->torch-geometric) (2.10)\n",
            "Requirement already satisfied: joblib>=0.11 in /usr/local/lib/python3.7/dist-packages (from scikit-learn->torch-geometric) (1.1.0)\n",
            "Requirement already satisfied: threadpoolctl>=2.0.0 in /usr/local/lib/python3.7/dist-packages (from scikit-learn->torch-geometric) (3.1.0)\n",
            "Building wheels for collected packages: torch-geometric\n",
            "  Building wheel for torch-geometric (setup.py) ... \u001b[?25l\u001b[?25hdone\n",
            "  Created wheel for torch-geometric: filename=torch_geometric-2.0.4-py3-none-any.whl size=616603 sha256=3095b41274968afac30c97639d372fef8995edbd0d7362ce162a8b8fd2dc05f3\n",
            "  Stored in directory: /root/.cache/pip/wheels/18/a6/a4/ca18c3051fcead866fe7b85700ee2240d883562a1bc70ce421\n",
            "Successfully built torch-geometric\n",
            "Installing collected packages: torch-spline-conv, torch-sparse, torch-scatter, torch-geometric, torch-cluster\n",
            "Successfully installed torch-cluster-1.6.0 torch-geometric-2.0.4 torch-scatter-2.0.9 torch-sparse-0.6.13 torch-spline-conv-1.2.1\n",
            "Collecting wandb\n",
            "  Downloading wandb-0.12.15-py2.py3-none-any.whl (1.8 MB)\n",
            "\u001b[K     |████████████████████████████████| 1.8 MB 4.3 MB/s \n",
            "\u001b[?25hCollecting pathtools\n",
            "  Downloading pathtools-0.1.2.tar.gz (11 kB)\n",
            "Collecting shortuuid>=0.5.0\n",
            "  Downloading shortuuid-1.0.8-py3-none-any.whl (9.5 kB)\n",
            "Collecting setproctitle\n",
            "  Downloading setproctitle-1.2.3-cp37-cp37m-manylinux_2_5_x86_64.manylinux1_x86_64.manylinux_2_17_x86_64.manylinux2014_x86_64.whl (29 kB)\n",
            "Requirement already satisfied: six>=1.13.0 in /usr/local/lib/python3.7/dist-packages (from wandb) (1.15.0)\n",
            "Requirement already satisfied: Click!=8.0.0,>=7.0 in /usr/local/lib/python3.7/dist-packages (from wandb) (7.1.2)\n",
            "Collecting docker-pycreds>=0.4.0\n",
            "  Downloading docker_pycreds-0.4.0-py2.py3-none-any.whl (9.0 kB)\n",
            "Requirement already satisfied: promise<3,>=2.0 in /usr/local/lib/python3.7/dist-packages (from wandb) (2.3)\n",
            "Collecting GitPython>=1.0.0\n",
            "  Downloading GitPython-3.1.27-py3-none-any.whl (181 kB)\n",
            "\u001b[K     |████████████████████████████████| 181 kB 51.4 MB/s \n",
            "\u001b[?25hRequirement already satisfied: protobuf>=3.12.0 in /usr/local/lib/python3.7/dist-packages (from wandb) (3.17.3)\n",
            "Requirement already satisfied: PyYAML in /usr/local/lib/python3.7/dist-packages (from wandb) (3.13)\n",
            "Requirement already satisfied: python-dateutil>=2.6.1 in /usr/local/lib/python3.7/dist-packages (from wandb) (2.8.2)\n",
            "Requirement already satisfied: requests<3,>=2.0.0 in /usr/local/lib/python3.7/dist-packages (from wandb) (2.23.0)\n",
            "Collecting sentry-sdk>=1.0.0\n",
            "  Downloading sentry_sdk-1.5.10-py2.py3-none-any.whl (144 kB)\n",
            "\u001b[K     |████████████████████████████████| 144 kB 51.8 MB/s \n",
            "\u001b[?25hRequirement already satisfied: psutil>=5.0.0 in /usr/local/lib/python3.7/dist-packages (from wandb) (5.4.8)\n",
            "Requirement already satisfied: typing-extensions>=3.7.4.3 in /usr/local/lib/python3.7/dist-packages (from GitPython>=1.0.0->wandb) (4.2.0)\n",
            "Collecting gitdb<5,>=4.0.1\n",
            "  Downloading gitdb-4.0.9-py3-none-any.whl (63 kB)\n",
            "\u001b[K     |████████████████████████████████| 63 kB 1.5 MB/s \n",
            "\u001b[?25hCollecting smmap<6,>=3.0.1\n",
            "  Downloading smmap-5.0.0-py3-none-any.whl (24 kB)\n",
            "Requirement already satisfied: chardet<4,>=3.0.2 in /usr/local/lib/python3.7/dist-packages (from requests<3,>=2.0.0->wandb) (3.0.4)\n",
            "Requirement already satisfied: certifi>=2017.4.17 in /usr/local/lib/python3.7/dist-packages (from requests<3,>=2.0.0->wandb) (2021.10.8)\n",
            "Requirement already satisfied: urllib3!=1.25.0,!=1.25.1,<1.26,>=1.21.1 in /usr/local/lib/python3.7/dist-packages (from requests<3,>=2.0.0->wandb) (1.24.3)\n",
            "Requirement already satisfied: idna<3,>=2.5 in /usr/local/lib/python3.7/dist-packages (from requests<3,>=2.0.0->wandb) (2.10)\n",
            "Building wheels for collected packages: pathtools\n",
            "  Building wheel for pathtools (setup.py) ... \u001b[?25l\u001b[?25hdone\n",
            "  Created wheel for pathtools: filename=pathtools-0.1.2-py3-none-any.whl size=8806 sha256=6738045380ab5ce4c135952e7b3ea0e8826e6a642aac277b02ce97659db769b2\n",
            "  Stored in directory: /root/.cache/pip/wheels/3e/31/09/fa59cef12cdcfecc627b3d24273699f390e71828921b2cbba2\n",
            "Successfully built pathtools\n",
            "Installing collected packages: smmap, gitdb, shortuuid, setproctitle, sentry-sdk, pathtools, GitPython, docker-pycreds, wandb\n",
            "Successfully installed GitPython-3.1.27 docker-pycreds-0.4.0 gitdb-4.0.9 pathtools-0.1.2 sentry-sdk-1.5.10 setproctitle-1.2.3 shortuuid-1.0.8 smmap-5.0.0 wandb-0.12.15\n"
          ]
        }
      ],
      "source": [
        "! pip3 install torch torchvision torchaudio --extra-index-url https://download.pytorch.org/whl/cpu\n",
        "! pip install torch-scatter torch-sparse torch-cluster torch-spline-conv torch-geometric -f https://data.pyg.org/whl/torch-1.11.0+cpu.html\n",
        "! pip install wandb"
      ]
    },
    {
      "cell_type": "code",
      "execution_count": 2,
      "metadata": {
        "colab": {
          "base_uri": "https://localhost:8080/",
          "height": 0
        },
        "id": "7haOF1KCwbjP",
        "outputId": "61d597ce-24dc-4eca-954f-64db9e2385c4"
      },
      "outputs": [
        {
          "output_type": "stream",
          "name": "stdout",
          "text": [
            "Archive:  24789S22_hw4_code.zip\n",
            "   creating: 24789S22_hw4_code/\n",
            "   creating: 24789S22_hw4_code/q1_template/\n",
            "  inflating: 24789S22_hw4_code/q1_template/gnn.py  \n",
            "  inflating: 24789S22_hw4_code/q1_template/test_set.npy  \n",
            "  inflating: 24789S22_hw4_code/q1_template/train_set.npy  \n",
            "   creating: 24789S22_hw4_code/q2_template/\n",
            "  inflating: 24789S22_hw4_code/q2_template/dqn.py  \n"
          ]
        }
      ],
      "source": [
        "! cd /content/\n",
        "! unzip  24789S22_hw4_code.zip"
      ]
    },
    {
      "cell_type": "code",
      "execution_count": 8,
      "metadata": {
        "id": "pjpEW8OvwjlJ"
      },
      "outputs": [],
      "source": [
        "import numpy as np\n",
        "import pandas as pd\n",
        "import matplotlib.pyplot as plt\n",
        "import torch\n",
        "import torch.nn.functional as F\n",
        "from torch import nn\n",
        "from torch.nn import Linear\n",
        "from torch_geometric.data import Data\n",
        "from torch_geometric.loader import DataLoader\n",
        "from torch_geometric.nn import GCNConv, global_max_pool\n",
        "import wandb\n",
        "import torch.nn.functional as F\n"
      ]
    },
    {
      "cell_type": "code",
      "execution_count": 9,
      "metadata": {
        "id": "5rXN1SVLwxPw"
      },
      "outputs": [],
      "source": [
        "def get_dataset(save_path):\n",
        "\t'''\n",
        "\tread data from .npy file \n",
        "\tno need to modify this function\n",
        "\t'''\n",
        "\traw_data = np.load(save_path, allow_pickle=True)\n",
        "\tdataset = []\n",
        "\tfor i, (node_f, edge_index, edge_attr, y)in enumerate(raw_data):\n",
        "\t\tsample = Data(\n",
        "\t\t\tx=torch.tensor(node_f, dtype=torch.float),\n",
        "\t\t\ty=torch.tensor([y], dtype=torch.float),\n",
        "\t\t\tedge_index=torch.tensor(edge_index, dtype=torch.long),\n",
        "\t\t\tedge_attr=torch.tensor(edge_attr, dtype=torch.float)\n",
        "\t\t)\n",
        "\t\tdataset.append(sample)\n",
        "\treturn dataset\n"
      ]
    },
    {
      "cell_type": "code",
      "execution_count": 54,
      "metadata": {
        "id": "vD2tFy5awzN_"
      },
      "outputs": [],
      "source": [
        "class GraphNet(nn.Module):\n",
        "  def __init__(self, n_features):\n",
        "    '''\n",
        "    n_features: number of features from dataset, should be 37\n",
        "    '''\n",
        "    super(GraphNet, self).__init__()\n",
        "    # define your GNN model here\n",
        "    self.conv1 = GCNConv(n_features, 64, normalize=True)\n",
        "    self.conv2 = GCNConv(64, 64, normalize=True)\n",
        "    self.conv3 = GCNConv(64, 128, normalize=True)\n",
        "    self.conv4 = GCNConv(192, 256, normalize=True)\n",
        "    self.conv5 = GCNConv(256, 512, normalize=True)\n",
        "    self.conv6 = GCNConv(512, 512, normalize=True)\n",
        "    self.act = nn.ReLU()\n",
        "    self.dropout = nn.Dropout()\n",
        "    #self.layer1 = nn.Linear(512, 128)\n",
        "    self.layer2 = nn.Linear(512, 1)\n",
        "\n",
        "  def forward(self, x):\n",
        "    nodes, edge_indices, edge_weights = x.x, x.edge_index, x.edge_attr\n",
        "    out1 = self.act(self.conv1(nodes, edge_indices))\n",
        "    #out1 = F.dropout(out1, self.training)\n",
        "    \n",
        "    out2 = self.act(self.conv2(out1, edge_indices))\n",
        "    #out2 = F.dropout(out2, self.training)\n",
        "    \n",
        "    out3 = self.act(self.conv3(out2, edge_indices))\n",
        "    #out3 = F.dropout(out3, self.training)\n",
        "\n",
        "    out4 = self.act(self.conv4(out3, edge_indices))\n",
        "    #out4 = F.dropout(out4, self.training)\n",
        "    \n",
        "    out5 = self.act(self.conv5(out4, edge_indices))\n",
        "    #out5 = F.dropout(out5, self.training)\n",
        "    \n",
        "    out6 = self.act(self.conv6(out5, edge_indices))\n",
        "    #out6 = F.dropout(out6, self.training)\n",
        "    \n",
        "    out = global_max_pool(out6, x.batch)\n",
        "    #out = self.dropout(self.act(self.layer1(out)))\n",
        "    out = self.layer2(out)\n",
        "    return out\n",
        "# define the forward pass here\n",
        "    "
      ]
    },
    {
      "cell_type": "code",
      "execution_count": 55,
      "metadata": {
        "id": "6hDrBUB0xO5K"
      },
      "outputs": [],
      "source": [
        "model1 = GraphNet(37)\n",
        "train_set = get_dataset('/content/24789S22_hw4_code/q1_template/train_set.npy')\n",
        "train_loader = DataLoader(train_set, batch_size=64, shuffle=True)\n",
        "for data1 in train_loader:\n",
        "  out = model1(data1)\n",
        "  break"
      ]
    },
    {
      "cell_type": "code",
      "execution_count": 61,
      "metadata": {
        "id": "XXVg_ubAw2W5",
        "colab": {
          "base_uri": "https://localhost:8080/",
          "height": 3671,
          "referenced_widgets": [
            "2d56a65562f14d7180f766f19cc1c271",
            "6e77c0a3783342ba9f727fb310fdcac7",
            "2bf4e79c34c947f1b7a879792d6ab6f2",
            "fe6edcc8adb54d5b88dd6397ea90840b",
            "aa67cff6c76c4afe9003565e7ef94462",
            "1e6ffe475eaf4bd78fd362c7f1fbd037",
            "e1db14234d854c26aa20ee6b2c5c9312",
            "2b002474118e4c30869d96fff09c3c0f"
          ]
        },
        "outputId": "ff628602-4f27-43c8-86f3-86c1b0091233"
      },
      "outputs": [
        {
          "output_type": "display_data",
          "data": {
            "text/plain": [
              "<IPython.core.display.HTML object>"
            ],
            "text/html": [
              "Finishing last run (ID:30oo7lyy) before initializing another..."
            ]
          },
          "metadata": {}
        },
        {
          "output_type": "display_data",
          "data": {
            "text/plain": [
              "<IPython.core.display.HTML object>"
            ],
            "text/html": [
              "Waiting for W&B process to finish... <strong style=\"color:green\">(success).</strong>"
            ]
          },
          "metadata": {}
        },
        {
          "output_type": "display_data",
          "data": {
            "text/plain": [
              "VBox(children=(Label(value='0.001 MB of 0.001 MB uploaded (0.000 MB deduped)\\r'), FloatProgress(value=1.0, max…"
            ],
            "application/vnd.jupyter.widget-view+json": {
              "version_major": 2,
              "version_minor": 0,
              "model_id": "2d56a65562f14d7180f766f19cc1c271"
            }
          },
          "metadata": {}
        },
        {
          "output_type": "display_data",
          "data": {
            "text/plain": [
              "<IPython.core.display.HTML object>"
            ],
            "text/html": [
              "<style>\n",
              "    table.wandb td:nth-child(1) { padding: 0 10px; text-align: right }\n",
              "    .wandb-row { display: flex; flex-direction: row; flex-wrap: wrap; width: 100% }\n",
              "    .wandb-col { display: flex; flex-direction: column; flex-basis: 100%; flex: 1; padding: 10px; }\n",
              "    </style>\n",
              "<div class=\"wandb-row\"><div class=\"wandb-col\"><h3>Run history:</h3><br/><table class=\"wandb\"><tr><td>epoch</td><td>▁▁▁▁▂▂▂▂▂▃▃▃▃▃▃▄▄▄▄▄▅▅▅▅▅▅▆▆▆▆▆▇▇▇▇▇▇███</td></tr><tr><td>test_loss</td><td>█▅▃▂▂▂▂▃▂▂▂▁▁▁▁▁▁▂▁▁▁▁▁▁▁▁▁▁▁▁▁▁▁▁▂▁▁▂▁▁</td></tr><tr><td>train loss</td><td>█▄▃▂▂▂▂▂▂▂▂▁▁▂▁▁▁▁▁▁▁▁▁▁▁▁▁▁▁▁▁▁▁▁▁▁▁▁▁▁</td></tr></table><br/></div><div class=\"wandb-col\"><h3>Run summary:</h3><br/><table class=\"wandb\"><tr><td>epoch</td><td>100</td></tr><tr><td>test_loss</td><td>4.15184</td></tr><tr><td>train loss</td><td>1.89243</td></tr></table><br/></div></div>"
            ]
          },
          "metadata": {}
        },
        {
          "output_type": "display_data",
          "data": {
            "text/plain": [
              "<IPython.core.display.HTML object>"
            ],
            "text/html": [
              "Synced <strong style=\"color:#cdcd00\">toasty-waterfall-50</strong>: <a href=\"https://wandb.ai/akshayantony12/uncategorized/runs/30oo7lyy\" target=\"_blank\">https://wandb.ai/akshayantony12/uncategorized/runs/30oo7lyy</a><br/>Synced 5 W&B file(s), 0 media file(s), 0 artifact file(s) and 0 other file(s)"
            ]
          },
          "metadata": {}
        },
        {
          "output_type": "display_data",
          "data": {
            "text/plain": [
              "<IPython.core.display.HTML object>"
            ],
            "text/html": [
              "Find logs at: <code>./wandb/run-20220430_194253-30oo7lyy/logs</code>"
            ]
          },
          "metadata": {}
        },
        {
          "output_type": "display_data",
          "data": {
            "text/plain": [
              "<IPython.core.display.HTML object>"
            ],
            "text/html": [
              "Successfully finished last run (ID:30oo7lyy). Initializing new run:<br/>"
            ]
          },
          "metadata": {}
        },
        {
          "output_type": "display_data",
          "data": {
            "text/plain": [
              "<IPython.core.display.HTML object>"
            ],
            "text/html": [
              "Tracking run with wandb version 0.12.15"
            ]
          },
          "metadata": {}
        },
        {
          "output_type": "display_data",
          "data": {
            "text/plain": [
              "<IPython.core.display.HTML object>"
            ],
            "text/html": [
              "Run data is saved locally in <code>/content/wandb/run-20220430_194613-228c1vvm</code>"
            ]
          },
          "metadata": {}
        },
        {
          "output_type": "display_data",
          "data": {
            "text/plain": [
              "<IPython.core.display.HTML object>"
            ],
            "text/html": [
              "Syncing run <strong><a href=\"https://wandb.ai/akshayantony12/uncategorized/runs/228c1vvm\" target=\"_blank\">glamorous-thunder-51</a></strong> to <a href=\"https://wandb.ai/akshayantony12/uncategorized\" target=\"_blank\">Weights & Biases</a> (<a href=\"https://wandb.me/run\" target=\"_blank\">docs</a>)<br/>"
            ]
          },
          "metadata": {}
        },
        {
          "output_type": "stream",
          "name": "stdout",
          "text": [
            "GraphNet(\n",
            "  (conv1): GCNConv(37, 64)\n",
            "  (conv2): GCNConv(64, 64)\n",
            "  (conv3): GCNConv(64, 128)\n",
            "  (conv4): GCNConv(128, 256)\n",
            "  (conv5): GCNConv(256, 512)\n",
            "  (conv6): GCNConv(512, 512)\n",
            "  (act): ReLU()\n",
            "  (dropout): Dropout(p=0.5, inplace=False)\n",
            "  (layer2): Linear(in_features=512, out_features=1, bias=True)\n",
            ")\n",
            "Epoch: 1, Train loss: 45.7, Test loss: 35.7\n",
            "Epoch: 2, Train loss: 28.0, Test loss: 23.5\n",
            "Epoch: 3, Train loss: 20.5, Test loss: 21.4\n",
            "Epoch: 4, Train loss: 19.2, Test loss: 18.5\n",
            "Epoch: 5, Train loss: 15.4, Test loss: 13.7\n",
            "Epoch: 6, Train loss: 12.7, Test loss: 11.0\n",
            "Epoch: 7, Train loss: 11.4, Test loss: 10.1\n",
            "Epoch: 8, Train loss: 10.0, Test loss: 9.32\n",
            "Epoch: 9, Train loss: 9.34, Test loss: 8.63\n",
            "Epoch: 10, Train loss: 8.39, Test loss: 11.8\n",
            "Epoch: 11, Train loss: 8.63, Test loss: 7.68\n",
            "Epoch: 12, Train loss: 7.34, Test loss: 9.16\n",
            "Epoch: 13, Train loss: 7.77, Test loss: 7.54\n",
            "Epoch: 14, Train loss: 6.92, Test loss: 7.2\n",
            "Epoch: 15, Train loss: 6.54, Test loss: 6.79\n",
            "Epoch: 16, Train loss: 6.0, Test loss: 7.63\n",
            "Epoch: 17, Train loss: 7.31, Test loss: 6.7\n",
            "Epoch: 18, Train loss: 5.91, Test loss: 7.06\n",
            "Epoch: 19, Train loss: 5.37, Test loss: 6.25\n",
            "Epoch: 20, Train loss: 5.37, Test loss: 5.66\n",
            "Epoch: 21, Train loss: 5.16, Test loss: 6.57\n",
            "Epoch: 22, Train loss: 5.49, Test loss: 8.08\n",
            "Epoch: 23, Train loss: 5.96, Test loss: 5.7\n",
            "Epoch: 24, Train loss: 5.06, Test loss: 5.87\n",
            "Epoch: 25, Train loss: 4.68, Test loss: 5.94\n",
            "Epoch: 26, Train loss: 4.52, Test loss: 5.53\n",
            "Epoch: 27, Train loss: 4.49, Test loss: 4.85\n",
            "Epoch: 28, Train loss: 4.14, Test loss: 12.2\n",
            "Epoch: 29, Train loss: 5.64, Test loss: 5.6\n",
            "Epoch: 30, Train loss: 4.24, Test loss: 5.42\n",
            "Epoch: 31, Train loss: 4.16, Test loss: 4.75\n",
            "Epoch: 32, Train loss: 4.76, Test loss: 5.93\n",
            "Epoch: 33, Train loss: 4.86, Test loss: 5.87\n",
            "Epoch: 34, Train loss: 3.81, Test loss: 5.41\n",
            "Epoch: 35, Train loss: 3.69, Test loss: 5.07\n",
            "Epoch: 36, Train loss: 4.03, Test loss: 5.49\n",
            "Epoch: 37, Train loss: 4.24, Test loss: 4.54\n",
            "Epoch: 38, Train loss: 3.67, Test loss: 4.24\n",
            "Epoch: 39, Train loss: 4.07, Test loss: 4.65\n",
            "Epoch: 40, Train loss: 3.66, Test loss: 4.65\n",
            "Epoch: 41, Train loss: 3.71, Test loss: 4.19\n",
            "Epoch: 42, Train loss: 3.34, Test loss: 4.71\n",
            "Epoch: 43, Train loss: 3.39, Test loss: 5.71\n",
            "Epoch: 44, Train loss: 3.44, Test loss: 5.16\n",
            "Epoch: 45, Train loss: 3.88, Test loss: 5.79\n",
            "Epoch: 46, Train loss: 4.5, Test loss: 4.91\n",
            "Epoch: 47, Train loss: 3.34, Test loss: 4.44\n",
            "Epoch: 48, Train loss: 3.22, Test loss: 5.02\n",
            "Epoch: 49, Train loss: 3.13, Test loss: 4.92\n",
            "Epoch: 50, Train loss: 3.19, Test loss: 5.96\n",
            "Epoch: 51, Train loss: 3.64, Test loss: 4.41\n",
            "Epoch: 52, Train loss: 2.92, Test loss: 6.34\n",
            "Epoch: 53, Train loss: 3.74, Test loss: 6.84\n",
            "Epoch: 54, Train loss: 3.74, Test loss: 5.05\n",
            "Epoch: 55, Train loss: 3.25, Test loss: 4.45\n",
            "Epoch: 56, Train loss: 3.23, Test loss: 4.07\n",
            "Epoch: 57, Train loss: 3.07, Test loss: 4.0\n",
            "Epoch: 58, Train loss: 2.8, Test loss: 4.55\n",
            "Epoch: 59, Train loss: 2.88, Test loss: 4.14\n",
            "Epoch: 60, Train loss: 2.73, Test loss: 5.08\n",
            "Epoch: 61, Train loss: 3.32, Test loss: 4.77\n",
            "Epoch: 62, Train loss: 3.01, Test loss: 4.34\n",
            "Epoch: 63, Train loss: 3.31, Test loss: 4.31\n",
            "Epoch: 64, Train loss: 3.19, Test loss: 4.29\n",
            "Epoch: 65, Train loss: 2.7, Test loss: 5.24\n",
            "Epoch: 66, Train loss: 2.91, Test loss: 4.07\n",
            "Epoch: 67, Train loss: 2.66, Test loss: 4.18\n",
            "Epoch: 68, Train loss: 2.59, Test loss: 4.05\n",
            "Epoch: 69, Train loss: 2.46, Test loss: 3.96\n",
            "Epoch: 70, Train loss: 2.57, Test loss: 4.29\n",
            "Epoch: 71, Train loss: 3.38, Test loss: 4.42\n",
            "Epoch: 72, Train loss: 3.57, Test loss: 4.46\n",
            "Epoch: 73, Train loss: 3.09, Test loss: 4.17\n",
            "Epoch: 74, Train loss: 3.06, Test loss: 5.2\n",
            "Epoch: 75, Train loss: 2.74, Test loss: 4.38\n",
            "Epoch: 76, Train loss: 2.4, Test loss: 4.41\n",
            "Epoch: 77, Train loss: 2.8, Test loss: 3.95\n",
            "Epoch: 78, Train loss: 2.62, Test loss: 4.11\n",
            "Epoch: 79, Train loss: 2.31, Test loss: 3.9\n",
            "Epoch: 80, Train loss: 2.25, Test loss: 4.1\n",
            "Epoch: 81, Train loss: 2.25, Test loss: 4.24\n",
            "Epoch: 82, Train loss: 2.82, Test loss: 4.32\n",
            "Epoch: 83, Train loss: 2.25, Test loss: 4.08\n",
            "Epoch: 84, Train loss: 2.24, Test loss: 4.19\n",
            "Epoch: 85, Train loss: 2.2, Test loss: 4.03\n",
            "Epoch: 86, Train loss: 2.09, Test loss: 5.71\n",
            "Epoch: 87, Train loss: 3.2, Test loss: 5.18\n",
            "Epoch: 88, Train loss: 2.64, Test loss: 4.0\n",
            "Epoch: 89, Train loss: 2.35, Test loss: 3.96\n",
            "Epoch: 90, Train loss: 2.16, Test loss: 4.75\n",
            "Epoch: 91, Train loss: 2.52, Test loss: 4.04\n",
            "Epoch: 92, Train loss: 2.32, Test loss: 4.05\n",
            "Epoch: 93, Train loss: 2.27, Test loss: 3.81\n",
            "Epoch: 94, Train loss: 2.0, Test loss: 4.21\n",
            "Epoch: 95, Train loss: 2.23, Test loss: 4.2\n",
            "Epoch: 96, Train loss: 2.14, Test loss: 4.36\n",
            "Epoch: 97, Train loss: 2.06, Test loss: 5.01\n",
            "Epoch: 98, Train loss: 2.75, Test loss: 4.06\n",
            "Epoch: 99, Train loss: 2.39, Test loss: 3.88\n",
            "Epoch: 100, Train loss: 1.98, Test loss: 4.02\n",
            "Epoch: 101, Train loss: 1.95, Test loss: 3.99\n",
            "Epoch: 102, Train loss: 1.82, Test loss: 3.71\n",
            "Epoch: 103, Train loss: 2.06, Test loss: 4.32\n",
            "Epoch: 104, Train loss: 1.93, Test loss: 3.84\n",
            "Epoch: 105, Train loss: 1.89, Test loss: 4.05\n",
            "Epoch: 106, Train loss: 2.03, Test loss: 3.94\n",
            "Epoch: 107, Train loss: 1.87, Test loss: 3.88\n",
            "Epoch: 108, Train loss: 1.88, Test loss: 3.89\n",
            "Epoch: 109, Train loss: 1.73, Test loss: 4.05\n",
            "Epoch: 110, Train loss: 1.92, Test loss: 4.02\n",
            "Epoch: 111, Train loss: 1.94, Test loss: 4.26\n",
            "Epoch: 112, Train loss: 2.05, Test loss: 4.06\n",
            "Epoch: 113, Train loss: 1.85, Test loss: 3.89\n",
            "Epoch: 114, Train loss: 1.72, Test loss: 3.79\n",
            "Epoch: 115, Train loss: 1.78, Test loss: 4.11\n",
            "Epoch: 116, Train loss: 2.0, Test loss: 5.73\n",
            "Epoch: 117, Train loss: 1.97, Test loss: 4.09\n",
            "Epoch: 118, Train loss: 1.73, Test loss: 3.86\n",
            "Epoch: 119, Train loss: 1.71, Test loss: 3.92\n",
            "Epoch: 120, Train loss: 1.99, Test loss: 4.01\n",
            "Epoch: 121, Train loss: 1.88, Test loss: 3.96\n",
            "Epoch: 122, Train loss: 2.05, Test loss: 4.46\n",
            "Epoch: 123, Train loss: 1.99, Test loss: 3.96\n",
            "Epoch: 124, Train loss: 1.79, Test loss: 3.86\n",
            "Epoch: 125, Train loss: 1.73, Test loss: 4.52\n",
            "Epoch: 126, Train loss: 1.71, Test loss: 3.87\n",
            "Epoch: 127, Train loss: 1.79, Test loss: 4.12\n",
            "Epoch: 128, Train loss: 1.73, Test loss: 4.35\n",
            "Epoch: 129, Train loss: 3.11, Test loss: 3.78\n",
            "Epoch: 130, Train loss: 2.29, Test loss: 4.41\n",
            "Epoch: 131, Train loss: 2.18, Test loss: 4.77\n",
            "Epoch: 132, Train loss: 2.13, Test loss: 4.39\n",
            "Epoch: 133, Train loss: 2.09, Test loss: 4.7\n",
            "Epoch: 134, Train loss: 2.55, Test loss: 3.92\n",
            "Epoch: 135, Train loss: 2.18, Test loss: 5.37\n",
            "Epoch: 136, Train loss: 2.13, Test loss: 4.17\n",
            "Epoch: 137, Train loss: 2.05, Test loss: 3.57\n",
            "Epoch: 138, Train loss: 1.82, Test loss: 3.69\n",
            "Epoch: 139, Train loss: 1.69, Test loss: 4.67\n",
            "Epoch: 140, Train loss: 1.97, Test loss: 3.9\n",
            "Epoch: 141, Train loss: 1.71, Test loss: 3.89\n",
            "Epoch: 142, Train loss: 1.97, Test loss: 3.77\n",
            "Epoch: 143, Train loss: 1.72, Test loss: 5.86\n",
            "Epoch: 144, Train loss: 2.71, Test loss: 3.79\n",
            "Epoch: 145, Train loss: 2.01, Test loss: 3.8\n",
            "Epoch: 146, Train loss: 1.53, Test loss: 3.76\n",
            "Epoch: 147, Train loss: 1.45, Test loss: 3.52\n",
            "Epoch: 148, Train loss: 1.55, Test loss: 3.8\n",
            "Epoch: 149, Train loss: 1.64, Test loss: 3.37\n",
            "Epoch: 150, Train loss: 1.41, Test loss: 3.28\n"
          ]
        },
        {
          "output_type": "display_data",
          "data": {
            "text/plain": [
              "<Figure size 432x288 with 1 Axes>"
            ],
            "image/png": "[encoded data removed]"
          },
          "metadata": {
            "needs_background": "light"
          }
        },
        {
          "output_type": "display_data",
          "data": {
            "text/plain": [
              "<Figure size 432x288 with 1 Axes>"
            ],
            "image/png": "[encoded data removed]"
          },
          "metadata": {
            "needs_background": "light"
          }
        },
        {
          "output_type": "stream",
          "name": "stdout",
          "text": [
            "MSE: 122.38836792696125\n"
          ]
        }
      ],
      "source": [
        "from torch import optim\n",
        "def main():\n",
        "\twandb.init(\"GCN\")\n",
        "\tdevice = 'cuda' if torch.cuda.is_available() else 'cpu'\n",
        "\t# load data and build the data loader\n",
        "\ttrain_set = get_dataset('/content/24789S22_hw4_code/q1_template/train_set.npy')\n",
        "\ttest_set = get_dataset('/content/24789S22_hw4_code/q1_template/test_set.npy')\n",
        "\ttrain_loader = DataLoader(train_set, batch_size=64, shuffle=True)\n",
        "\ttest_loader = DataLoader(test_set, batch_size=64, shuffle=False)\n",
        "\n",
        "\t# number of features in the dataset\n",
        "\t# no need to change the value\n",
        "\tn_features = 37\n",
        "\n",
        "\t# build your GNN model\n",
        "\tmodel = GraphNet(n_features)\n",
        "\n",
        "\t# define your loss and optimizer\n",
        "\tloss_func = nn.MSELoss()\n",
        "\t#optimizer = torch.optim.SGD(model.parameters(), lr=0.001, momentum=0.9, weight_decay=1e-4)\n",
        "\toptimizer = torch.optim.Adam(model.parameters(), lr=0.001, weight_decay=1e-5)\n",
        "\tscheduler = torch.optim.lr_scheduler.StepLR(optimizer, 10, 0.5)\n",
        "\n",
        "\tprint(model)\n",
        "\n",
        "\thist = {\"train_loss\":[], \"test_loss\":[]}\n",
        "\tnum_epoch = 150\n",
        "\tfor epoch in range(1, 1+num_epoch):\n",
        "\t\tmodel.train()\n",
        "\t\tloss_all = 0\n",
        "\t\tfor data in train_loader:\n",
        "\t\t\t# your codes for training the model\n",
        "\t\t\t# ...\n",
        "\t\t\toptimizer.zero_grad()\n",
        "\t\t\toutput = model(data)\n",
        "\t\t\tlabel = data.y\n",
        "\t\t\tloss = loss_func(output.squeeze(), label)\n",
        "\t\t\tloss.backward()\n",
        "\t\t\toptimizer.step()\n",
        "\t\t\tloss_all += loss.item() * data.num_graphs * len(data)\n",
        "\t\ttrain_loss = loss_all / len(train_set)\n",
        "\n",
        "\t\twith torch.no_grad():\n",
        "\t\t\tloss_all = 0\n",
        "\t\t\tmodel.eval()\n",
        "\t\t\tfor data in test_loader:\n",
        "\t\t\t\t# your codes for validation on test set\n",
        "\t\t\t\tpreds = model(data)\n",
        "\t\t\t\tlabel = data.y\n",
        "\t\t\t\tloss = loss_func(preds.squeeze(), label)\n",
        "\t\t\t\tloss_all += loss.item() * data.num_graphs * len(data)\n",
        "\t\t\ttest_loss = loss_all / len(test_set)\n",
        "\t\t\tmodel = model.train()\n",
        "\t\t\thist[\"train_loss\"].append(train_loss)\n",
        "\t\t\thist[\"test_loss\"].append(test_loss)\n",
        "\t\t\twandb.log({\"train loss\": train_loss,\n",
        "\t\t\t\t\t\t\t\t\"test_loss\": test_loss,\n",
        "\t\t\t\t\t\t\t\t\"epoch\": epoch})\n",
        "\t\t\tprint(f'Epoch: {epoch}, Train loss: {train_loss:.3}, Test loss: {test_loss:.3}')\n",
        "\t\t#scheduler.step()\t\n",
        "\t# test on test set to get prediction \n",
        "\twith torch.no_grad():\n",
        "\t\tmodel = model.eval()\n",
        "\t\tprediction = np.zeros(len(test_set))\n",
        "\t\tlabel = np.zeros(len(test_set))\n",
        "\t\tidx = 0\n",
        "\t\tfor data in test_loader:\n",
        "\t\t\tdata = data.to(device)\n",
        "\t\t\toutput = model(data)\n",
        "\t\t\tprediction[idx:idx+len(output)] = output.squeeze().detach().numpy()\n",
        "\t\t\tlabel[idx:idx+len(output)] = data.y.detach().numpy()\n",
        "\t\t\tidx += len(output)\n",
        "\t\tprediction = np.array(prediction).squeeze()\n",
        "\t\tlabel = np.array(label).squeeze()\n",
        "\t\tmodel = model.train()\n",
        "\n",
        "\t# visualization\n",
        "\t# plot loss function\n",
        "\tax = plt.subplot(1,1,1)\n",
        "\tax.plot([e for e in range(1,1+num_epoch)], hist[\"train_loss\"], label=\"train loss\")\n",
        "\tax.plot([e for e in range(1,1+num_epoch)], hist[\"test_loss\"], label=\"test loss\")\n",
        "\tplt.xlabel(\"epoch\")\n",
        "\tplt.ylabel(\"loss\")\n",
        "\tax.legend()\n",
        "\tplt.show()\n",
        "\n",
        "\t# plot prediction vs. label\n",
        "\tx = np.linspace(np.min(label), np.max(label))\n",
        "\ty = np.linspace(np.min(label), np.max(label))\n",
        "\tax = plt.subplot(1,1,1)\n",
        "\tax.scatter(prediction, label, marker='+', c='red')\n",
        "\tax.plot(x, y, '--')\n",
        "\tplt.xlabel(\"prediction\")\n",
        "\tplt.ylabel(\"label\")\n",
        "\tplt.show()\n",
        "\tprint(\"MSE:\", np.sum(np.square(prediction-label)))\n",
        "\ttorch.save(model.state_dict(), \"q1_model.pth\")\n",
        "\n",
        "if __name__ == \"__main__\":\n",
        "\tmain()"
      ]
    },
    {
      "cell_type": "code",
      "source": [
        "()"
      ],
      "metadata": {
        "colab": {
          "base_uri": "https://localhost:8080/",
          "height": 0
        },
        "id": "fmmbAbUp0aJw",
        "outputId": "751aa94e-ec2b-4f25-dd92-75286c40ebe5"
      },
      "execution_count": 62,
      "outputs": [
        {
          "output_type": "execute_result",
          "data": {
            "text/plain": [
              "()"
            ]
          },
          "metadata": {},
          "execution_count": 62
        }
      ]
    },
    {
      "cell_type": "code",
      "source": [
        ""
      ],
      "metadata": {
        "id": "VL2f-W8hCpi1"
      },
      "execution_count": null,
      "outputs": []
    }
  ],
  "metadata": {
    "colab": {
      "collapsed_sections": [],
      "name": "HW4.ipynb",
      "provenance": []
    },
    "kernelspec": {
      "display_name": "Python 3",
      "name": "python3"
    },
    "language_info": {
      "name": "python"
    },
    "widgets": {
      "application/vnd.jupyter.widget-state+json": {
        "2d56a65562f14d7180f766f19cc1c271": {
          "model_module": "@jupyter-widgets/controls",
          "model_name": "VBoxModel",
          "model_module_version": "1.5.0",
          "state": {
            "_dom_classes": [],
            "_model_module": "@jupyter-widgets/controls",
            "_model_module_version": "1.5.0",
            "_model_name": "VBoxModel",
            "_view_count": null,
            "_view_module": "@jupyter-widgets/controls",
            "_view_module_version": "1.5.0",
            "_view_name": "VBoxView",
            "box_style": "",
            "children": [
              "IPY_MODEL_6e77c0a3783342ba9f727fb310fdcac7",
              "IPY_MODEL_2bf4e79c34c947f1b7a879792d6ab6f2"
            ],
            "layout": "IPY_MODEL_fe6edcc8adb54d5b88dd6397ea90840b"
          }
        },
        "6e77c0a3783342ba9f727fb310fdcac7": {
          "model_module": "@jupyter-widgets/controls",
          "model_name": "LabelModel",
          "model_module_version": "1.5.0",
          "state": {
            "_dom_classes": [],
            "_model_module": "@jupyter-widgets/controls",
            "_model_module_version": "1.5.0",
            "_model_name": "LabelModel",
            "_view_count": null,
            "_view_module": "@jupyter-widgets/controls",
            "_view_module_version": "1.5.0",
            "_view_name": "LabelView",
            "description": "",
            "description_tooltip": null,
            "layout": "IPY_MODEL_aa67cff6c76c4afe9003565e7ef94462",
            "placeholder": "​",
            "style": "IPY_MODEL_1e6ffe475eaf4bd78fd362c7f1fbd037",
            "value": "0.013 MB of 0.013 MB uploaded (0.000 MB deduped)\r"
          }
        },
        "2bf4e79c34c947f1b7a879792d6ab6f2": {
          "model_module": "@jupyter-widgets/controls",
          "model_name": "FloatProgressModel",
          "model_module_version": "1.5.0",
          "state": {
            "_dom_classes": [],
            "_model_module": "@jupyter-widgets/controls",
            "_model_module_version": "1.5.0",
            "_model_name": "FloatProgressModel",
            "_view_count": null,
            "_view_module": "@jupyter-widgets/controls",
            "_view_module_version": "1.5.0",
            "_view_name": "ProgressView",
            "bar_style": "",
            "description": "",
            "description_tooltip": null,
            "layout": "IPY_MODEL_e1db14234d854c26aa20ee6b2c5c9312",
            "max": 1,
            "min": 0,
            "orientation": "horizontal",
            "style": "IPY_MODEL_2b002474118e4c30869d96fff09c3c0f",
            "value": 1
          }
        },
        "fe6edcc8adb54d5b88dd6397ea90840b": {
          "model_module": "@jupyter-widgets/base",
          "model_name": "LayoutModel",
          "model_module_version": "1.2.0",
          "state": {
            "_model_module": "@jupyter-widgets/base",
            "_model_module_version": "1.2.0",
            "_model_name": "LayoutModel",
            "_view_count": null,
            "_view_module": "@jupyter-widgets/base",
            "_view_module_version": "1.2.0",
            "_view_name": "LayoutView",
            "align_content": null,
            "align_items": null,
            "align_self": null,
            "border": null,
            "bottom": null,
            "display": null,
            "flex": null,
            "flex_flow": null,
            "grid_area": null,
            "grid_auto_columns": null,
            "grid_auto_flow": null,
            "grid_auto_rows": null,
            "grid_column": null,
            "grid_gap": null,
            "grid_row": null,
            "grid_template_areas": null,
            "grid_template_columns": null,
            "grid_template_rows": null,
            "height": null,
            "justify_content": null,
            "justify_items": null,
            "left": null,
            "margin": null,
            "max_height": null,
            "max_width": null,
            "min_height": null,
            "min_width": null,
            "object_fit": null,
            "object_position": null,
            "order": null,
            "overflow": null,
            "overflow_x": null,
            "overflow_y": null,
            "padding": null,
            "right": null,
            "top": null,
            "visibility": null,
            "width": null
          }
        },
        "aa67cff6c76c4afe9003565e7ef94462": {
          "model_module": "@jupyter-widgets/base",
          "model_name": "LayoutModel",
          "model_module_version": "1.2.0",
          "state": {
            "_model_module": "@jupyter-widgets/base",
            "_model_module_version": "1.2.0",
            "_model_name": "LayoutModel",
            "_view_count": null,
            "_view_module": "@jupyter-widgets/base",
            "_view_module_version": "1.2.0",
            "_view_name": "LayoutView",
            "align_content": null,
            "align_items": null,
            "align_self": null,
            "border": null,
            "bottom": null,
            "display": null,
            "flex": null,
            "flex_flow": null,
            "grid_area": null,
            "grid_auto_columns": null,
            "grid_auto_flow": null,
            "grid_auto_rows": null,
            "grid_column": null,
            "grid_gap": null,
            "grid_row": null,
            "grid_template_areas": null,
            "grid_template_columns": null,
            "grid_template_rows": null,
            "height": null,
            "justify_content": null,
            "justify_items": null,
            "left": null,
            "margin": null,
            "max_height": null,
            "max_width": null,
            "min_height": null,
            "min_width": null,
            "object_fit": null,
            "object_position": null,
            "order": null,
            "overflow": null,
            "overflow_x": null,
            "overflow_y": null,
            "padding": null,
            "right": null,
            "top": null,
            "visibility": null,
            "width": null
          }
        },
        "1e6ffe475eaf4bd78fd362c7f1fbd037": {
          "model_module": "@jupyter-widgets/controls",
          "model_name": "DescriptionStyleModel",
          "model_module_version": "1.5.0",
          "state": {
            "_model_module": "@jupyter-widgets/controls",
            "_model_module_version": "1.5.0",
            "_model_name": "DescriptionStyleModel",
            "_view_count": null,
            "_view_module": "@jupyter-widgets/base",
            "_view_module_version": "1.2.0",
            "_view_name": "StyleView",
            "description_width": ""
          }
        },
        "e1db14234d854c26aa20ee6b2c5c9312": {
          "model_module": "@jupyter-widgets/base",
          "model_name": "LayoutModel",
          "model_module_version": "1.2.0",
          "state": {
            "_model_module": "@jupyter-widgets/base",
            "_model_module_version": "1.2.0",
            "_model_name": "LayoutModel",
            "_view_count": null,
            "_view_module": "@jupyter-widgets/base",
            "_view_module_version": "1.2.0",
            "_view_name": "LayoutView",
            "align_content": null,
            "align_items": null,
            "align_self": null,
            "border": null,
            "bottom": null,
            "display": null,
            "flex": null,
            "flex_flow": null,
            "grid_area": null,
            "grid_auto_columns": null,
            "grid_auto_flow": null,
            "grid_auto_rows": null,
            "grid_column": null,
            "grid_gap": null,
            "grid_row": null,
            "grid_template_areas": null,
            "grid_template_columns": null,
            "grid_template_rows": null,
            "height": null,
            "justify_content": null,
            "justify_items": null,
            "left": null,
            "margin": null,
            "max_height": null,
            "max_width": null,
            "min_height": null,
            "min_width": null,
            "object_fit": null,
            "object_position": null,
            "order": null,
            "overflow": null,
            "overflow_x": null,
            "overflow_y": null,
            "padding": null,
            "right": null,
            "top": null,
            "visibility": null,
            "width": null
          }
        },
        "2b002474118e4c30869d96fff09c3c0f": {
          "model_module": "@jupyter-widgets/controls",
          "model_name": "ProgressStyleModel",
          "model_module_version": "1.5.0",
          "state": {
            "_model_module": "@jupyter-widgets/controls",
            "_model_module_version": "1.5.0",
            "_model_name": "ProgressStyleModel",
            "_view_count": null,
            "_view_module": "@jupyter-widgets/base",
            "_view_module_version": "1.2.0",
            "_view_name": "StyleView",
            "bar_color": null,
            "description_width": ""
          }
        }
      }
    }
  },
  "nbformat": 4,
  "nbformat_minor": 0
}