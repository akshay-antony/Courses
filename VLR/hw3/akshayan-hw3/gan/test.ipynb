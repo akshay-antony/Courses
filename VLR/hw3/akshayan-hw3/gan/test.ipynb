{
 "cells": [
  {
   "cell_type": "code",
   "execution_count": 1,
   "metadata": {},
   "outputs": [],
   "source": [
    "from glob import glob\n",
    "import os\n",
    "import torch\n",
    "from utils import get_fid, interpolate_latent_space, save_plot\n",
    "from torchvision import transforms\n",
    "from torchvision.utils import save_image\n",
    "from PIL import Image\n",
    "from torchvision.datasets import VisionDataset\n",
    "import os\n",
    "import torch\n",
    "from networks import Discriminator, Generator\n",
    "import torch.nn.functional as F\n",
    "from train import train_model"
   ]
  },
  {
   "cell_type": "code",
   "execution_count": 8,
   "metadata": {},
   "outputs": [],
   "source": [
    "gen = Generator()\n",
    "gen = torch.jit.load(\"/home/akshay/Downloads/VLR/vlr_hw3/gan/data_ls_gan/generator.pt\", torch.device('cuda'))\n"
   ]
  },
  {
   "cell_type": "code",
   "execution_count": 10,
   "metadata": {},
   "outputs": [
    {
     "name": "stderr",
     "output_type": "stream",
     "text": [
      "FID model: 100%|██████████| 391/391 [09:25<00:00,  1.45s/it]\n"
     ]
    },
    {
     "name": "stdout",
     "output_type": "stream",
     "text": [
      "Final FID (Full 50K): 78.69801794794824\n"
     ]
    }
   ],
   "source": [
    "fid = get_fid(\n",
    "        gen,\n",
    "        dataset_name=\"cub\",\n",
    "        dataset_resolution=32,\n",
    "        z_dimension=128,\n",
    "        batch_size=128,\n",
    "        num_gen=50_000,\n",
    "    )\n",
    "print(f\"Final FID (Full 50K): {fid}\")"
   ]
  },
  {
   "cell_type": "code",
   "execution_count": null,
   "metadata": {},
   "outputs": [],
   "source": []
  }
 ],
 "metadata": {
  "interpreter": {
   "hash": "25e51f0b4726ece1ea944612e9e120ba2af65e9ae9d80ae5bc22d7939e16735d"
  },
  "kernelspec": {
   "display_name": "Python 3.9.7 ('torch')",
   "language": "python",
   "name": "python3"
  },
  "language_info": {
   "codemirror_mode": {
    "name": "ipython",
    "version": 3
   },
   "file_extension": ".py",
   "mimetype": "text/x-python",
   "name": "python",
   "nbconvert_exporter": "python",
   "pygments_lexer": "ipython3",
   "version": "3.8.13"
  },
  "orig_nbformat": 4
 },
 "nbformat": 4,
 "nbformat_minor": 2
}
