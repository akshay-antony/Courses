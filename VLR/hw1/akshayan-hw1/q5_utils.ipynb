{
 "cells": [
  {
   "cell_type": "code",
   "execution_count": 1,
   "metadata": {},
   "outputs": [],
   "source": [
    "import torch\n",
    "import numpy as np\n",
    "from matplotlib.pyplot import cm \n",
    "import matplotlib.pyplot as plt \n",
    "\n",
    "import nbimporter\n",
    "from q4_imagenet_finetune_pascal import PretrainedResNet\n",
    "from q2_caffenet_pascal import CaffeNet\n",
    "from torch.utils.data import DataLoader\n",
    "from sklearn.neighbors import NearestNeighbors\n",
    "from PIL import Image\n",
    "import os\n",
    "from voc_dataset import VOCDataset"
   ]
  },
  {
   "cell_type": "code",
   "execution_count": 2,
   "metadata": {},
   "outputs": [],
   "source": [
    "def generate_rand(index_list, annotation_list):\n",
    "   taken_classes = set()\n",
    "   req_idx = []\n",
    "   i = 0\n",
    "   while True:\n",
    "       if len(req_idx) >= 3:\n",
    "           break\n",
    "       curr_random = np.random.randint(0, len(index_list))\n",
    "       curr_classes = np.where(annotation_list[curr_random][0] == 1)\n",
    "       class_taken = False\n",
    "\n",
    "       for i in range(curr_classes[0].shape[0]):\n",
    "           if curr_classes[0][i] in taken_classes:\n",
    "               class_taken = True\n",
    "               continue\n",
    "           taken_classes.add(curr_classes[0][i])\n",
    "           \n",
    "       if class_taken == True:\n",
    "           continue\n",
    "       req_idx.append(curr_random)\n",
    "\n",
    "   return req_idx"
   ]
  },
  {
   "cell_type": "code",
   "execution_count": 3,
   "metadata": {},
   "outputs": [],
   "source": [
    "def resnet_features(x):\n",
    "    torch.cuda.empty_cache()\n",
    "    if torch.cuda.is_available:\n",
    "        device = 'cuda'\n",
    "    else:\n",
    "        device = 'cpu'\n",
    "    state = torch.load('checkpoint-resnet18_pretrained-epoch10.pth')\n",
    "    model = PretrainedResNet()\n",
    "    model.to(device)\n",
    "    model.load_state_dict(state)\n",
    "    model.eval()\n",
    "    x = x.to(device)\n",
    "    i = 0\n",
    "    for _, v in model.resnet.resnet._modules.items():\n",
    "        x = v(x)\n",
    "        if i == 8:\n",
    "            break\n",
    "        i += 1\n",
    "    return x"
   ]
  },
  {
   "cell_type": "code",
   "execution_count": 4,
   "metadata": {},
   "outputs": [],
   "source": [
    "def caffenet_features(x, pool5=True):\n",
    "    torch.cuda.empty_cache()\n",
    "    if torch.cuda.is_available:\n",
    "        device = 'cuda'\n",
    "    else:\n",
    "        device = 'cpu'\n",
    "    state = torch.load('checkpoint-caffenet-epoch50.pth')\n",
    "    model = CaffeNet()\n",
    "    model.to(device)\n",
    "    model.load_state_dict(state)\n",
    "    model.eval()\n",
    "    x = x.to(device)\n",
    "    if pool5:\n",
    "        return model.forward_analysis_pool5(x)\n",
    "    else:\n",
    "        return model.forward_analysis_fc7(x)"
   ]
  },
  {
   "cell_type": "code",
   "execution_count": 5,
   "metadata": {},
   "outputs": [],
   "source": [
    "def calculate_features(test_loader):\n",
    "    total_resnet_features = np.zeros((0, 512), dtype=np.float32)\n",
    "    total_caffenet_features = np.zeros((0, 6400), dtype=np.float32)\n",
    "    batch_size = 256\n",
    "    test_data_loader = DataLoader(test_loader, batch_size, False)\n",
    "\n",
    "    # Calculate the features for all the test images.\n",
    "    for _, (data, _, _) in enumerate(test_data_loader):\n",
    "        temp = resnet_features(data).reshape(data.shape[0], -1).cpu().detach().numpy()\n",
    "        total_resnet_features = np.vstack([total_resnet_features, temp])\n",
    "        temp = caffenet_features(data).cpu().detach().numpy()\n",
    "        total_caffenet_features = np.vstack([total_caffenet_features, temp])\n",
    "    return total_resnet_features, total_caffenet_features"
   ]
  },
  {
   "cell_type": "code",
   "execution_count": 6,
   "metadata": {},
   "outputs": [],
   "source": [
    "def find_neighbors(total_features, req_three_idx):\n",
    "    neighbor_indices = np.zeros((0, 5), np.int16)\n",
    "    resnet_nbrs = NearestNeighbors(n_neighbors=5, algorithm='ball_tree').fit(total_features)\n",
    "    for idx in req_three_idx:\n",
    "        _, indices = resnet_nbrs.kneighbors(total_features[idx].reshape(1, -1))\n",
    "        neighbor_indices = np.vstack([neighbor_indices, indices])\n",
    "    return neighbor_indices"
   ]
  },
  {
   "cell_type": "code",
   "execution_count": 7,
   "metadata": {},
   "outputs": [],
   "source": [
    "def show_image(resnet_neighbor_indices, test_loader):\n",
    "    for row in resnet_neighbor_indices:\n",
    "        class_list = np.where(test_loader.anno_list[int(row[0])][0])\n",
    "        print(\"\\n --- NEW CLASS ---\")\n",
    "        print(\"Original Image\")\n",
    "        \n",
    "        neighbour_no = 0\n",
    "        for val in row:\n",
    "            findex = test_loader.index_list[int(val)]\n",
    "            fpath = os.path.join(test_loader.img_dir, findex + '.jpg')\n",
    "            img = Image.open(fpath)\n",
    "            img = img.resize((img.size[0]//2, img.size[1]//2))\n",
    "            class_list = np.where(test_loader.anno_list[int(val)][0] == 1)\n",
    "            print(\"Image classes are\")\n",
    "            for i in range(class_list[0].shape[0]):\n",
    "                print(test_loader.CLASS_NAMES[class_list[0][i]])\n",
    "            display(img)\n",
    "            if neighbour_no <= 4:\n",
    "                print(\"Neigbour: \", neighbour_no+1)\n",
    "            neighbour_no += 1\n"
   ]
  },
  {
   "cell_type": "code",
   "execution_count": 8,
   "metadata": {},
   "outputs": [],
   "source": [
    "def find_caffenet_features(test_loader):\n",
    "    total_caffenet_features = np.zeros((0, 4096), dtype=np.float32)\n",
    "    batch_size = 250\n",
    "    test_data_loader = DataLoader(test_loader, batch_size, True)\n",
    "    total_label = np.empty((0, 20))\n",
    "\n",
    "    for i, (data, label, _) in enumerate(test_data_loader):\n",
    "        temp = caffenet_features(data, False).cpu().detach().numpy()\n",
    "        total_label = np.vstack([total_label, label])\n",
    "        total_caffenet_features = np.vstack([total_caffenet_features, temp])\n",
    "        if (i+1)*batch_size >= 1000:\n",
    "            break\n",
    "    return total_caffenet_features, total_label"
   ]
  },
  {
   "cell_type": "code",
   "execution_count": 9,
   "metadata": {},
   "outputs": [],
   "source": [
    "def find_mean_label(label, test_loader, color):\n",
    "    multiple_labels = np.where(label == 1)\n",
    "    label_names = \"\"\n",
    "    mean_color = np.zeros((4,))\n",
    "    for i in range(len(multiple_labels[0])):\n",
    "        label_names += test_loader.CLASS_NAMES[multiple_labels[0][i]] + \" ,\"\n",
    "        mean_color += color[multiple_labels[0][i]]\n",
    "\n",
    "    label_names = label_names[:-1]\n",
    "    mean_color /= len(multiple_labels[0])\n",
    "    return len(multiple_labels[0]), label_names, mean_color"
   ]
  },
  {
   "cell_type": "code",
   "execution_count": 10,
   "metadata": {},
   "outputs": [],
   "source": [
    "def plot_features(tsne_projection, label, test_loader):\n",
    "    fig, ax = plt.subplots(1)\n",
    "    fig.set_size_inches(18.5, 10.5, forward=True)\n",
    "    color = cm.rainbow(np.linspace(0, 1, 20))\n",
    "    used_colors = set()\n",
    "    for i in range(tsne_projection.shape[0]):\n",
    "        number_of_classes, label_names, mean_color = find_mean_label(label[i], test_loader, color)\n",
    "        if mean_color.mean() not in used_colors and number_of_classes == 1:\n",
    "            used_colors.add(mean_color.mean())\n",
    "            ax.scatter(tsne_projection[i][0], tsne_projection[i][1], color=mean_color, label=label_names)\n",
    "        else:\n",
    "            ax.scatter(tsne_projection[i][0], tsne_projection[i][1], color=mean_color)\n",
    "    #ax.legend(loc='lower right')\n",
    "    ax.legend(bbox_to_anchor=(1.02, 1), loc='upper left', borderaxespad=0)"
   ]
  },
  {
   "cell_type": "code",
   "execution_count": 11,
   "metadata": {},
   "outputs": [],
   "source": [
    "def plot_metrics(report, resnet=True):\n",
    "    fig, ax1 = plt.subplots(1)\n",
    "    color = cm.rainbow(np.linspace(0, 1, 20))\n",
    "    ax1.set_xlabel(\"recall\")\n",
    "    if resnet:\n",
    "        ax1.set_title(\"precision vs recall for resnet\")\n",
    "    else:\n",
    "        ax1.set_title(\"precision vs recall for caffenet\")\n",
    "    ax1.set_ylabel(\"precision\")\n",
    "    i = 0\n",
    "    for data in report:\n",
    "        ax1.scatter(report[data][1], report[data][2], color=color[i], label=data)\n",
    "        i += 1\n",
    "    ax1.legend(bbox_to_anchor=(1.02, 1), loc='upper left', borderaxespad=0)"
   ]
  },
  {
   "cell_type": "code",
   "execution_count": 12,
   "metadata": {},
   "outputs": [],
   "source": [
    "def test_metrics(test_dataset, model_name='resnet'):\n",
    "    torch.cuda.empty_cache()\n",
    "    if torch.cuda.is_available:\n",
    "        device = 'cuda'\n",
    "    else:\n",
    "        device = 'cpu'\n",
    "    \n",
    "    if model_name == 'resnet':\n",
    "        state = torch.load('checkpoint-resnet18_pretrained-epoch10.pth')\n",
    "        model = PretrainedResNet()\n",
    "        model.to(device)\n",
    "        model.load_state_dict(state)\n",
    "        model.eval()\n",
    "\n",
    "    else:\n",
    "        state = torch.load('checkpoint-caffenet-epoch50.pth')\n",
    "        model = CaffeNet()\n",
    "        model.to(device)\n",
    "        model.load_state_dict(state)\n",
    "        model.eval()\n",
    "    \n",
    "    sigmoid = torch.sigmoid\n",
    "    total_label = np.zeros((0, 20), dtype=np.int16)\n",
    "    total_pred = np.zeros((0, 20), dtype=np.int16)\n",
    "\n",
    "    test_dataloader = DataLoader(test_dataset, batch_size=128, shuffle=False)\n",
    "    for i, (data, label, weights) in enumerate(test_dataloader):\n",
    "        data = data.to(device)\n",
    "        prediction = model(data)\n",
    "        prediction = prediction.cpu().detach()\n",
    "        prediction = sigmoid(prediction).numpy()\n",
    "        prediction = np.where(prediction >= 0.5, 1, 0)\n",
    "        total_label = np.vstack([total_label, label.numpy()])\n",
    "        total_pred = np.vstack([total_pred, prediction])\n",
    "\n",
    "    return total_label, total_pred"
   ]
  },
  {
   "cell_type": "code",
   "execution_count": null,
   "metadata": {},
   "outputs": [],
   "source": []
  }
 ],
 "metadata": {
  "interpreter": {
   "hash": "0f61743acd3d0ddd231ad2d48bb2b41d7113834f365e261c46f0953c3259a124"
  },
  "kernelspec": {
   "display_name": "Python 3 (ipykernel)",
   "language": "python",
   "name": "python3"
  },
  "language_info": {
   "codemirror_mode": {
    "name": "ipython",
    "version": 3
   },
   "file_extension": ".py",
   "mimetype": "text/x-python",
   "name": "python",
   "nbconvert_exporter": "python",
   "pygments_lexer": "ipython3",
   "version": "3.9.7"
  }
 },
 "nbformat": 4,
 "nbformat_minor": 2
}
