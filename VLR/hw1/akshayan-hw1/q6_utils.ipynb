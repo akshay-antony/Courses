{
 "cells": [
  {
   "cell_type": "code",
   "execution_count": 1,
   "metadata": {},
   "outputs": [],
   "source": [
    "import torch\n",
    "import numpy as np\n",
    "import utils\n",
    "import trainer\n",
    "from torch.utils.tensorboard import SummaryWriter"
   ]
  },
  {
   "cell_type": "code",
   "execution_count": 13,
   "metadata": {},
   "outputs": [],
   "source": [
    "def mixup_data(data, label, alpha=0.2, device='cuda'):\n",
    "    lamb = np.random.beta(alpha, alpha)\n",
    "    idx = torch.randperm(data.shape[0]).to(device)\n",
    "    data_2 = data[idx]\n",
    "    label_2 = label[idx]\n",
    "    mixed_data = lamb * data + (1 - lamb) * data_2\n",
    "    return mixed_data, label_2, lamb\n"
   ]
  },
  {
   "cell_type": "code",
   "execution_count": 15,
   "metadata": {},
   "outputs": [],
   "source": [
    "def mixup_loss(lamb, pred, label_1, label_2, loss_fn):\n",
    "    loss = lamb * loss_fn(pred, label_1) + (1 - lamb) * loss_fn(pred, label_2)\n",
    "    return loss "
   ]
  },
  {
   "cell_type": "code",
   "execution_count": null,
   "metadata": {},
   "outputs": [],
   "source": [
    "def train(args, model, optimizer, scheduler=None, model_name='model'):\n",
    "    # TODO Q1.5: Initialize your tensorboard writer here!\n",
    "    writer = SummaryWriter(\"runs/resnet_pre_mixup\") \n",
    "    train_loader = utils.get_data_loader(\n",
    "        'voc', train=True, batch_size=args.batch_size, split='trainval', inp_size=args.inp_size)\n",
    "    test_loader = utils.get_data_loader(\n",
    "        'voc', train=False, batch_size=args.test_batch_size, split='test', inp_size=args.inp_size)\n",
    "\n",
    "    # Ensure model is in correct mode and on right device\n",
    "    model.train()\n",
    "    model = model.to(args.device)\n",
    "    loss_fn = torch.nn.BCEWithLogitsLoss()\n",
    "\n",
    "    cnt = 0\n",
    "    for epoch in range(args.epochs):\n",
    "        for batch_idx, (data, target, wgt) in enumerate(train_loader):\n",
    "            # Get a batch of data\n",
    "            data, target, wgt = data.to(args.device), target.to(args.device), wgt.to(args.device)\n",
    "            mixed_up_data, target_2, lamb = mixup_data(data, target)\n",
    "            optimizer.zero_grad()\n",
    "            # Forward pass\n",
    "            output = model(mixed_up_data)\n",
    "            # Calculate the loss\n",
    "            # TODO Q1.4: your loss for multi-label classification\n",
    "            loss = mixup_loss(lamb, output, target, target_2, loss_fn)\n",
    "            # Calculate gradient w.r.t the loss\n",
    "            loss.backward()\n",
    "            # Optimizer takes one step\n",
    "            optimizer.step()\n",
    "            # Log info\n",
    "            if cnt % args.log_every == 0:\n",
    "                # TODO Q1.5: Log training loss to tensorboard\n",
    "                writer.add_scalar(\"training loss\", loss.item(), cnt)\n",
    "                print('Train Epoch: {} [{} ({:.0f}%)]\\tLoss: {:.6f}'.format(\n",
    "                    epoch, cnt, 100. * batch_idx / len(train_loader), loss.item()))\n",
    "                # TODO Q3.2: Log histogram of gradients\n",
    "                for name, params in model.named_parameters():\n",
    "                    writer.add_histogram(name, params.grad.data.cpu().numpy(), cnt)\n",
    "\n",
    "            # Validation iteration\n",
    "            if cnt % args.val_every == 0:\n",
    "                model.eval()\n",
    "                ap, map = utils.eval_dataset_map(model, args.device, test_loader)\n",
    "                # TODO Q1.5: Log MAP to tensorboard\n",
    "                writer.add_scalar(\"MAP\", map, cnt)\n",
    "                model.train()\n",
    "            cnt += 1\n",
    "            torch.cuda.empty_cache()\n",
    "        # TODO Q3.2: Log Learning rate\n",
    "        if scheduler is not None:\n",
    "            scheduler.step()\n",
    "            curr_lr = scheduler.get_last_lr()\n",
    "            writer.add_scalar(\"Learning Rate\", curr_lr[0], epoch)\n",
    "\n",
    "        # save model\n",
    "        if trainer.save_this_epoch(args, epoch):\n",
    "            trainer.save_model(epoch, model_name, model)\n",
    "\n",
    "    # Validation iteration\n",
    "    test_loader = utils.get_data_loader('voc', train=False, batch_size=args.test_batch_size, split='test', inp_size=args.inp_size)\n",
    "    ap, map = utils.eval_dataset_map(model, args.device, test_loader)\n",
    "    writer.flush()\n",
    "    writer.close()\n",
    "    return ap, map"
   ]
  },
  {
   "cell_type": "code",
   "execution_count": null,
   "metadata": {},
   "outputs": [],
   "source": []
  }
 ],
 "metadata": {
  "interpreter": {
   "hash": "25e51f0b4726ece1ea944612e9e120ba2af65e9ae9d80ae5bc22d7939e16735d"
  },
  "kernelspec": {
   "display_name": "Python 3 (ipykernel)",
   "language": "python",
   "name": "python3"
  },
  "language_info": {
   "codemirror_mode": {
    "name": "ipython",
    "version": 3
   },
   "file_extension": ".py",
   "mimetype": "text/x-python",
   "name": "python",
   "nbconvert_exporter": "python",
   "pygments_lexer": "ipython3",
   "version": "3.9.7"
  }
 },
 "nbformat": 4,
 "nbformat_minor": 2
}
