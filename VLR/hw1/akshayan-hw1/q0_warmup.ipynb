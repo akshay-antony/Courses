{
 "cells": [
  {
   "cell_type": "markdown",
   "metadata": {},
   "source": [
    "# Task 0: Fashion MNIST classification in Pytorch (10 points)\n",
    "\n",
    "The goal of this task is to get you familiar with [Pytorch](https://pytorch.org/), teach you to debug your models, and give you a general understanding of deep learning and computer vision work-flows.\n",
    "\n",
    "[Fashion MNIST](https://github.com/zalandoresearch/fashion-mnist) is a dataset of [Zalando’s](https://jobs.zalando.com/tech/) article images — consisting of 70,000 grayscale images in 10\n",
    "categories. Each example is a 28x28 grayscale image, associated with a label from 10 classes. ‘Fashion-\n",
    "MNIST’ is intended to serve as a direct **drop-in replacement** for the original [MNIST](http://yann.lecun.com/exdb/mnist/) dataset — often\n",
    "used as the “Hello, World” of machine learning programs for computer vision. It shares the same image\n",
    "size and structure of training and testing splits. We will use 60,000 images to train the network and\n",
    "10,000 images to evaluate how accurately the network learned to classify images."
   ]
  },
  {
   "cell_type": "markdown",
   "metadata": {},
   "source": [
    "### Prerequisites:\n",
    "\n",
    "- Install [conda](https://docs.conda.io/projects/conda/en/latest/user-guide/install/index.html) and create a conda environment to manage all the packages for the homeworks.\n",
    "- Install the following packages in your conda environment:\n",
    "    - [jupyterlab](https://jupyter.org/install) and get familiar with basic operations on jupyter notebook.\n",
    "    - [Pytorch](https://pytorch.org/)\n",
    "    - matplotlib\n",
    "    - tensorboard\n",
    "    - imageio\n",
    "    - sklearn"
   ]
  },
  {
   "cell_type": "code",
   "execution_count": 1,
   "metadata": {},
   "outputs": [],
   "source": [
    "# installation directions can be found on pytorch's webpage\n",
    "import torch\n",
    "import torch.nn as nn\n",
    "import torch.nn.functional as F\n",
    "from torchvision import datasets, transforms\n",
    "import matplotlib.pyplot as plt\n",
    "%matplotlib inline\n",
    "\n",
    "# import our network module from simple_cnn.py\n",
    "from simple_cnn import SimpleCNN              # be sure to modify or you may have to restart kernel!"
   ]
  },
  {
   "cell_type": "markdown",
   "metadata": {},
   "source": [
    "Usually you'll parse arguments using `argparse` (or similar library) but we can simply use a stand-in object for ipython notebooks. Furthermore, PyTorch can do computations on NVidia `GPU`s or on normal `CPU`s. You can configure the setting using the `device` variable."
   ]
  },
  {
   "cell_type": "code",
   "execution_count": 2,
   "metadata": {},
   "outputs": [],
   "source": [
    "class ARGS(object):\n",
    "    # input batch size for training \n",
    "    batch_size = 256\n",
    "    # input batch size for testing\n",
    "    test_batch_size=256\n",
    "    # number of epochs to train for\n",
    "    epochs = 15\n",
    "    # learning rate\n",
    "    lr = .001\n",
    "    # Learning rate step gamma\n",
    "    gamma = 0.7\n",
    "    # how many batches to wait before logging training status\n",
    "    log_every = 100\n",
    "    # how many batches to wait before evaluating model\n",
    "    val_every = 100\n",
    "    # set true if using GPU during training\n",
    "    use_cuda = True\n",
    "    step_size = 3\n",
    "\n",
    "args = ARGS()\n",
    "device = torch.device(\"cuda\" if args.use_cuda else \"cpu\")"
   ]
  },
  {
   "cell_type": "code",
   "execution_count": 3,
   "metadata": {},
   "outputs": [],
   "source": [
    "def calculate_accuracy(output, target):\n",
    "    predicted = torch.argmax(output, dim=1)\n",
    "    accuracy = torch.sum(predicted == target) / target.shape[0]\n",
    "    return accuracy"
   ]
  },
  {
   "cell_type": "markdown",
   "metadata": {},
   "source": [
    "We define some basic testing and training code. The testing code prints out the average test loss and the training code (`main`) plots train/test losses and returns the final model."
   ]
  },
  {
   "cell_type": "code",
   "execution_count": 4,
   "metadata": {},
   "outputs": [],
   "source": [
    "def test(model, device, test_loader):\n",
    "    \"\"\"Evaluate model on test dataset.\"\"\"\n",
    "    model.eval()\n",
    "    test_loss = 0\n",
    "    correct = 0\n",
    "    with torch.no_grad():\n",
    "        for data, target in test_loader:\n",
    "            data, target = data.to(device), target.to(device)\n",
    "            output = model(data)\n",
    "            test_loss += F.cross_entropy(output, target, reduction='sum').item()  # sum up batch loss\n",
    "            pred = output.argmax(dim=1, keepdim=True)  # get the index of the max log-probability\n",
    "            correct += pred.eq(target.view_as(pred)).sum().item()\n",
    "\n",
    "    test_loss /= len(test_loader.dataset)\n",
    "\n",
    "    print('\\nTest set: Average loss: {:.4f}, Accuracy: {}/{} ({:.0f}%)\\n'.format(\n",
    "        test_loss, correct, len(test_loader.dataset),\n",
    "        100. * correct / len(test_loader.dataset)))\n",
    "\n",
    "    return test_loss, correct / len(test_loader.dataset)\n",
    "\n",
    "def main():\n",
    "    # 1. load dataset and build dataloader\n",
    "    train_loader = torch.utils.data.DataLoader(\n",
    "        datasets.FashionMNIST('../data', train=True, download=True,\n",
    "                       transform=transforms.Compose([\n",
    "                           transforms.ToTensor(),\n",
    "                           transforms.Normalize((0.1307,), (0.3081,))\n",
    "                       ])),\n",
    "        batch_size=args.batch_size, shuffle=True)\n",
    "    test_loader = torch.utils.data.DataLoader(\n",
    "        datasets.FashionMNIST('../data', train=False, transform=transforms.Compose([\n",
    "                           transforms.ToTensor(),\n",
    "                           transforms.Normalize((0.1307,), (0.3081,))\n",
    "                       ])),\n",
    "        batch_size=args.test_batch_size, shuffle=True)\n",
    "\n",
    "    # 2. define the model, and optimizer.\n",
    "    model = SimpleCNN().to(device)\n",
    "    model.train()\n",
    "    optimizer = torch.optim.Adam(model.parameters(), lr=args.lr)\n",
    "\n",
    "    scheduler = torch.optim.lr_scheduler.StepLR(optimizer, step_size=1, gamma=args.gamma)\n",
    "    cnt = 0\n",
    "    train_log = {'iter': [], 'loss': [], 'accuracy': []}\n",
    "    test_log = {'iter': [], 'loss': [], 'accuracy': []}\n",
    "    for epoch in range(args.epochs):\n",
    "        for batch_idx, (data, target) in enumerate(train_loader):\n",
    "            # Get a batch of data\n",
    "            data, target = data.to(device), target.to(device)\n",
    "            optimizer.zero_grad()\n",
    "            # Forward pass\n",
    "            output = model(data)\n",
    "            # Calculate the loss\n",
    "            loss = F.cross_entropy(output, target)\n",
    "            # Calculate gradient w.r.t the loss\n",
    "            loss.backward()\n",
    "            # Optimizer takes one step\n",
    "            optimizer.step()\n",
    "            # Log info\n",
    "            if cnt % args.log_every == 0:\n",
    "                print('Train Epoch: {} [{}/{} ({:.0f}%)]\\tLoss: {:.6f}'.format(\n",
    "                    epoch, cnt, len(train_loader.dataset),\n",
    "                           100. * batch_idx / len(train_loader), loss.item()))\n",
    "                train_log['iter'].append(cnt)\n",
    "                train_log['loss'].append(loss.cpu().detach().numpy())\n",
    "                # TODO: q0.1 calculate your train accuracy!\n",
    "                train_acc = calculate_accuracy(output, target)\n",
    "                train_log['accuracy'].append(train_acc.cpu().detach().numpy())\n",
    "\n",
    "            # Validation iteration\n",
    "            if cnt % args.val_every == 0:\n",
    "                test_loss, test_acc = test(model, device, test_loader)\n",
    "                test_log['iter'].append(cnt)\n",
    "                test_log['loss'].append(test_loss)\n",
    "                test_log['accuracy'].append(test_acc)\n",
    "                model.train()\n",
    "            cnt += 1\n",
    "        scheduler.step()\n",
    "    fig = plt.figure()\n",
    "    plt.plot(train_log['iter'], train_log['loss'], 'r', label='Training')\n",
    "    plt.plot(test_log['iter'], test_log['loss'], 'b', label='Testing')\n",
    "    plt.title('Loss')\n",
    "    plt.legend()\n",
    "    fig = plt.figure()\n",
    "    plt.plot(train_log['iter'], train_log['accuracy'], 'r', label='Training')\n",
    "    plt.plot(test_log['iter'], test_log['accuracy'], 'b', label='Testing')\n",
    "    plt.title('Accuracy')\n",
    "    plt.legend()\n",
    "    plt.show()\n",
    "    return model"
   ]
  },
  {
   "cell_type": "markdown",
   "metadata": {},
   "source": [
    "## 0.1 Bug Fix and Hyper-parameter search. (2pts)\n",
    "\n",
    "Simply running `main` will result in a `RuntimeError`! \n",
    "- (1 pt) Check out `TODO: q0.1` in  `simple_cnn.py` and see if you can fix the bug. You may have to restart your ipython kernel for changes to reflect in the notebook. \n",
    "- (1 pt) Fill in the `TODO: q0.1` in the `main()` function above to calculated the train accuracy.\n",
    "\n",
    "\n",
    "Once you fix the bugs, you should be able to get a reasonable accuracy (>80%) within 100 iterations just by tuning some hyper-parameter. Include the train/test plots of your best hyperparamter setting and comment on why you think these settings worked best. (you can complete this task on CPU)\n",
    "\n",
    "**YOUR ANSWER HERE**\n"
   ]
  },
  {
   "cell_type": "code",
   "execution_count": 14,
   "metadata": {},
   "outputs": [
    {
     "name": "stdout",
     "output_type": "stream",
     "text": [
      "args.batch_size = 256\n",
      "args.epochs = 15\n",
      "args.gamma = 0.7\n",
      "args.log_every = 100\n",
      "args.lr = 0.001\n",
      "args.step_size = 3\n",
      "args.test_batch_size = 256\n",
      "args.val_every = 100\n",
      "\n",
      "\n",
      "\n",
      "Train Epoch: 0 [0/60000 (0%)]\tLoss: 2.306719\n",
      "\n",
      "Test set: Average loss: 2.0144, Accuracy: 2466/10000 (25%)\n",
      "\n",
      "Train Epoch: 0 [100/60000 (43%)]\tLoss: 0.462602\n",
      "\n",
      "Test set: Average loss: 0.5782, Accuracy: 7868/10000 (79%)\n",
      "\n",
      "Train Epoch: 0 [200/60000 (85%)]\tLoss: 0.521841\n",
      "\n",
      "Test set: Average loss: 0.5176, Accuracy: 8135/10000 (81%)\n",
      "\n",
      "Train Epoch: 1 [300/60000 (28%)]\tLoss: 0.439650\n",
      "\n",
      "Test set: Average loss: 0.4948, Accuracy: 8252/10000 (83%)\n",
      "\n",
      "Train Epoch: 1 [400/60000 (70%)]\tLoss: 0.570406\n",
      "\n",
      "Test set: Average loss: 0.5143, Accuracy: 8146/10000 (81%)\n",
      "\n",
      "Train Epoch: 2 [500/60000 (13%)]\tLoss: 0.402762\n",
      "\n",
      "Test set: Average loss: 0.4793, Accuracy: 8327/10000 (83%)\n",
      "\n",
      "Train Epoch: 2 [600/60000 (55%)]\tLoss: 0.403454\n",
      "\n",
      "Test set: Average loss: 0.4762, Accuracy: 8352/10000 (84%)\n",
      "\n",
      "Train Epoch: 2 [700/60000 (98%)]\tLoss: 0.456762\n",
      "\n",
      "Test set: Average loss: 0.4767, Accuracy: 8343/10000 (83%)\n",
      "\n",
      "Train Epoch: 3 [800/60000 (40%)]\tLoss: 0.536255\n",
      "\n",
      "Test set: Average loss: 0.4634, Accuracy: 8361/10000 (84%)\n",
      "\n",
      "Train Epoch: 3 [900/60000 (83%)]\tLoss: 0.454320\n",
      "\n",
      "Test set: Average loss: 0.4766, Accuracy: 8307/10000 (83%)\n",
      "\n",
      "Train Epoch: 4 [1000/60000 (26%)]\tLoss: 0.442033\n",
      "\n",
      "Test set: Average loss: 0.4613, Accuracy: 8382/10000 (84%)\n",
      "\n",
      "Train Epoch: 4 [1100/60000 (68%)]\tLoss: 0.351706\n",
      "\n",
      "Test set: Average loss: 0.4575, Accuracy: 8405/10000 (84%)\n",
      "\n",
      "Train Epoch: 5 [1200/60000 (11%)]\tLoss: 0.410969\n",
      "\n",
      "Test set: Average loss: 0.4578, Accuracy: 8390/10000 (84%)\n",
      "\n",
      "Train Epoch: 5 [1300/60000 (53%)]\tLoss: 0.403648\n",
      "\n",
      "Test set: Average loss: 0.4559, Accuracy: 8402/10000 (84%)\n",
      "\n",
      "Train Epoch: 5 [1400/60000 (96%)]\tLoss: 0.422745\n",
      "\n",
      "Test set: Average loss: 0.4553, Accuracy: 8390/10000 (84%)\n",
      "\n",
      "Train Epoch: 6 [1500/60000 (38%)]\tLoss: 0.456432\n",
      "\n",
      "Test set: Average loss: 0.4544, Accuracy: 8398/10000 (84%)\n",
      "\n",
      "Train Epoch: 6 [1600/60000 (81%)]\tLoss: 0.401154\n",
      "\n",
      "Test set: Average loss: 0.4542, Accuracy: 8403/10000 (84%)\n",
      "\n",
      "Train Epoch: 7 [1700/60000 (23%)]\tLoss: 0.394411\n",
      "\n",
      "Test set: Average loss: 0.4530, Accuracy: 8420/10000 (84%)\n",
      "\n",
      "Train Epoch: 7 [1800/60000 (66%)]\tLoss: 0.378188\n",
      "\n",
      "Test set: Average loss: 0.4532, Accuracy: 8402/10000 (84%)\n",
      "\n",
      "Train Epoch: 8 [1900/60000 (9%)]\tLoss: 0.500772\n",
      "\n",
      "Test set: Average loss: 0.4512, Accuracy: 8430/10000 (84%)\n",
      "\n",
      "Train Epoch: 8 [2000/60000 (51%)]\tLoss: 0.346715\n",
      "\n",
      "Test set: Average loss: 0.4529, Accuracy: 8391/10000 (84%)\n",
      "\n",
      "Train Epoch: 8 [2100/60000 (94%)]\tLoss: 0.335110\n",
      "\n",
      "Test set: Average loss: 0.4489, Accuracy: 8411/10000 (84%)\n",
      "\n",
      "Train Epoch: 9 [2200/60000 (36%)]\tLoss: 0.335404\n",
      "\n",
      "Test set: Average loss: 0.4498, Accuracy: 8426/10000 (84%)\n",
      "\n",
      "Train Epoch: 9 [2300/60000 (79%)]\tLoss: 0.449421\n",
      "\n",
      "Test set: Average loss: 0.4497, Accuracy: 8428/10000 (84%)\n",
      "\n",
      "Train Epoch: 10 [2400/60000 (21%)]\tLoss: 0.308626\n",
      "\n",
      "Test set: Average loss: 0.4484, Accuracy: 8423/10000 (84%)\n",
      "\n",
      "Train Epoch: 10 [2500/60000 (64%)]\tLoss: 0.415795\n",
      "\n",
      "Test set: Average loss: 0.4478, Accuracy: 8428/10000 (84%)\n",
      "\n",
      "Train Epoch: 11 [2600/60000 (6%)]\tLoss: 0.350154\n",
      "\n",
      "Test set: Average loss: 0.4480, Accuracy: 8424/10000 (84%)\n",
      "\n",
      "Train Epoch: 11 [2700/60000 (49%)]\tLoss: 0.423942\n",
      "\n",
      "Test set: Average loss: 0.4480, Accuracy: 8422/10000 (84%)\n",
      "\n",
      "Train Epoch: 11 [2800/60000 (91%)]\tLoss: 0.391641\n",
      "\n",
      "Test set: Average loss: 0.4487, Accuracy: 8417/10000 (84%)\n",
      "\n",
      "Train Epoch: 12 [2900/60000 (34%)]\tLoss: 0.435023\n",
      "\n",
      "Test set: Average loss: 0.4473, Accuracy: 8419/10000 (84%)\n",
      "\n",
      "Train Epoch: 12 [3000/60000 (77%)]\tLoss: 0.452686\n",
      "\n",
      "Test set: Average loss: 0.4475, Accuracy: 8424/10000 (84%)\n",
      "\n",
      "Train Epoch: 13 [3100/60000 (19%)]\tLoss: 0.394567\n",
      "\n",
      "Test set: Average loss: 0.4476, Accuracy: 8426/10000 (84%)\n",
      "\n",
      "Train Epoch: 13 [3200/60000 (62%)]\tLoss: 0.402607\n",
      "\n",
      "Test set: Average loss: 0.4474, Accuracy: 8418/10000 (84%)\n",
      "\n",
      "Train Epoch: 14 [3300/60000 (4%)]\tLoss: 0.363531\n",
      "\n",
      "Test set: Average loss: 0.4474, Accuracy: 8430/10000 (84%)\n",
      "\n",
      "Train Epoch: 14 [3400/60000 (47%)]\tLoss: 0.337694\n",
      "\n",
      "Test set: Average loss: 0.4473, Accuracy: 8428/10000 (84%)\n",
      "\n",
      "Train Epoch: 14 [3500/60000 (89%)]\tLoss: 0.423512\n",
      "\n",
      "Test set: Average loss: 0.4474, Accuracy: 8427/10000 (84%)\n",
      "\n"
     ]
    },
    {
     "data": {
      "image/png": "[encoded data removed]",
      "text/plain": [
       "<Figure size 432x288 with 1 Axes>"
      ]
     },
     "metadata": {
      "needs_background": "light"
     },
     "output_type": "display_data"
    },
    {
     "data": {
      "image/png": "[encoded data removed]",
      "text/plain": [
       "<Figure size 432x288 with 1 Axes>"
      ]
     },
     "metadata": {
      "needs_background": "light"
     },
     "output_type": "display_data"
    }
   ],
   "source": [
    "#### FEEL FREE TO MODIFY args VARIABLE HERE OR ABOVE ####\n",
    "# args.gamma = float('inf')\n",
    "args.epochs = 15\n",
    "\n",
    "# DON'T CHANGE\n",
    "# prints out arguments and runs main\n",
    "for attr in dir(args):\n",
    "    if '__' not in attr and attr !='use_cuda':\n",
    "        print('args.{} = {}'.format(attr, getattr(args, attr)))\n",
    "print('\\n\\n')\n",
    "model = main()"
   ]
  },
  {
   "cell_type": "markdown",
   "metadata": {},
   "source": [
    "These hyperparamters worked because lr = 0.001 is the optimal for initial epochs which is decreased by factor of 0.7 in every 3 epochs. So the accuracy and loss saturates just after initial 2-3 epochs. Further improvement only possible with non-linear layers."
   ]
  },
  {
   "cell_type": "markdown",
   "metadata": {},
   "source": [
    "## 0.2 Play with parameters.(3pt)\n",
    "How many trainable parameters does the trained model have? The answer needs to depend on the input `model` - outputting a constant number will not get any credits. Hint: Find out how to use model.parameters() in PyTorch."
   ]
  },
  {
   "cell_type": "code",
   "execution_count": 15,
   "metadata": {},
   "outputs": [
    {
     "name": "stdout",
     "output_type": "stream",
     "text": [
      "Model has 454922 params\n"
     ]
    }
   ],
   "source": [
    "def param_count(model):\n",
    "    sum = 0\n",
    "    for layers in model.parameters():\n",
    "        if layers.requires_grad:\n",
    "            sum += torch.numel(layers)\n",
    "    return sum\n",
    "print('Model has {} params'.format(param_count(model)))"
   ]
  },
  {
   "cell_type": "markdown",
   "metadata": {},
   "source": [
    "## 0.3 Deep Linear Networks?!? (5pt)\n",
    "Until this point, there are no non-linearities in the SimpleCNN! (Your TAs were just as surprised as you are at the results.) Your next task is to modify `simple_cnn.py` to add non-linear activation layers, and train your model in full scale. Make sure to add non-linearities at **every** applicable layer.\n",
    "\n",
    "Compute the loss and accuracy curves on train and test sets after 5 epochs. The accuracy should be around 90% or higher."
   ]
  },
  {
   "cell_type": "code",
   "execution_count": 5,
   "metadata": {},
   "outputs": [
    {
     "name": "stderr",
     "output_type": "stream",
     "text": [
      "/home/akshay/anaconda3/envs/materials2/lib/python3.9/site-packages/torchvision/datasets/mnist.py:498: UserWarning: The given NumPy array is not writeable, and PyTorch does not support non-writeable tensors. This means you can write to the underlying (supposedly non-writeable) NumPy array using the tensor. You may want to copy the array to protect its data or make it writeable before converting it to a tensor. This type of warning will be suppressed for the rest of this program. (Triggered internally at  /opt/conda/conda-bld/pytorch_1631630797748/work/torch/csrc/utils/tensor_numpy.cpp:180.)\n",
      "  return torch.from_numpy(parsed.astype(m[2], copy=False)).view(*s)\n"
     ]
    },
    {
     "name": "stdout",
     "output_type": "stream",
     "text": [
      "Train Epoch: 0 [0/60000 (0%)]\tLoss: 2.306187\n",
      "\n",
      "Test set: Average loss: 3.3595, Accuracy: 1000/10000 (10%)\n",
      "\n",
      "Train Epoch: 0 [100/60000 (43%)]\tLoss: 0.368842\n",
      "\n",
      "Test set: Average loss: 0.4455, Accuracy: 8279/10000 (83%)\n",
      "\n",
      "Train Epoch: 0 [200/60000 (85%)]\tLoss: 0.388116\n",
      "\n",
      "Test set: Average loss: 0.3812, Accuracy: 8585/10000 (86%)\n",
      "\n",
      "Train Epoch: 1 [300/60000 (28%)]\tLoss: 0.293764\n",
      "\n",
      "Test set: Average loss: 0.3550, Accuracy: 8706/10000 (87%)\n",
      "\n",
      "Train Epoch: 1 [400/60000 (70%)]\tLoss: 0.303087\n",
      "\n",
      "Test set: Average loss: 0.3345, Accuracy: 8799/10000 (88%)\n",
      "\n",
      "Train Epoch: 2 [500/60000 (13%)]\tLoss: 0.276343\n",
      "\n",
      "Test set: Average loss: 0.2985, Accuracy: 8893/10000 (89%)\n",
      "\n",
      "Train Epoch: 2 [600/60000 (55%)]\tLoss: 0.223603\n",
      "\n",
      "Test set: Average loss: 0.2951, Accuracy: 8931/10000 (89%)\n",
      "\n",
      "Train Epoch: 2 [700/60000 (98%)]\tLoss: 0.238678\n",
      "\n",
      "Test set: Average loss: 0.2957, Accuracy: 8932/10000 (89%)\n",
      "\n",
      "Train Epoch: 3 [800/60000 (40%)]\tLoss: 0.223235\n",
      "\n",
      "Test set: Average loss: 0.2856, Accuracy: 8985/10000 (90%)\n",
      "\n",
      "Train Epoch: 3 [900/60000 (83%)]\tLoss: 0.251770\n",
      "\n",
      "Test set: Average loss: 0.2946, Accuracy: 8951/10000 (90%)\n",
      "\n",
      "Train Epoch: 4 [1000/60000 (26%)]\tLoss: 0.183225\n",
      "\n",
      "Test set: Average loss: 0.2789, Accuracy: 9000/10000 (90%)\n",
      "\n",
      "Train Epoch: 4 [1100/60000 (68%)]\tLoss: 0.240385\n",
      "\n",
      "Test set: Average loss: 0.2693, Accuracy: 9077/10000 (91%)\n",
      "\n"
     ]
    },
    {
     "data": {
      "image/png": "[encoded data removed]",
      "text/plain": [
       "<Figure size 432x288 with 1 Axes>"
      ]
     },
     "metadata": {
      "needs_background": "light"
     },
     "output_type": "display_data"
    },
    {
     "data": {
      "image/png": "[encoded data removed]",
      "text/plain": [
       "<Figure size 432x288 with 1 Axes>"
      ]
     },
     "metadata": {
      "needs_background": "light"
     },
     "output_type": "display_data"
    },
    {
     "data": {
      "text/plain": [
       "SimpleCNN(\n",
       "  (conv1): Conv2d(1, 32, kernel_size=(5, 5), stride=(1, 1), padding=(2, 2))\n",
       "  (conv2): Conv2d(32, 64, kernel_size=(5, 5), stride=(1, 1), padding=(2, 2))\n",
       "  (nonlinear): ReLU()\n",
       "  (pool1): AvgPool2d(kernel_size=2, stride=2, padding=0)\n",
       "  (pool2): AvgPool2d(kernel_size=2, stride=2, padding=0)\n",
       "  (fc1): Sequential(\n",
       "    (0): Linear(in_features=3136, out_features=128, bias=True)\n",
       "    (1): ReLU()\n",
       "  )\n",
       "  (fc2): Sequential(\n",
       "    (0): Linear(in_features=128, out_features=10, bias=True)\n",
       "  )\n",
       ")"
      ]
     },
     "execution_count": 5,
     "metadata": {},
     "output_type": "execute_result"
    }
   ],
   "source": [
    "args.epochs = 5\n",
    "args.lr = 0.01\n",
    "args.step_size = 2\n",
    "\n",
    "main()"
   ]
  },
  {
   "cell_type": "markdown",
   "metadata": {},
   "source": [
    "Where did you add your non-linearities? \n",
    "\n",
    "**YOUR ANSWER HERE**\n",
    "I placed relu non linearity after before pooling of every cnn and after first fcn\n",
    "<br><br><br>\n",
    "Provide some insights on why the results was fairly good even without activation layers. (**2** pts)\n",
    "\n",
    "**YOUR ANSWER HERE**\n",
    "Without non-linearity the output is just a linear matrix multiplication of input, so it can  learn linear decision boundaries, so the maximum accuracy without non-linearity is when data are linearly separated. As that gives a good accuracy the data must be linearly separable to a good extend, and classes are distinct."
   ]
  },
  {
   "cell_type": "code",
   "execution_count": null,
   "metadata": {},
   "outputs": [],
   "source": []
  }
 ],
 "metadata": {
  "kernelspec": {
   "display_name": "Python 3 (ipykernel)",
   "language": "python",
   "name": "python3"
  },
  "language_info": {
   "codemirror_mode": {
    "name": "ipython",
    "version": 3
   },
   "file_extension": ".py",
   "mimetype": "text/x-python",
   "name": "python",
   "nbconvert_exporter": "python",
   "pygments_lexer": "ipython3",
   "version": "3.9.7"
  }
 },
 "nbformat": 4,
 "nbformat_minor": 4
}
